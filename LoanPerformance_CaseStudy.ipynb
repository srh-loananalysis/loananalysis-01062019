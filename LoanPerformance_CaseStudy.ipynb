{
 "cells": [
  {
   "cell_type": "markdown",
   "metadata": {},
   "source": [
    "---\n",
    "\n",
    "# Loan Performance Case Study\n",
    "\n",
    "### Imports"
   ]
  },
  {
   "cell_type": "code",
   "execution_count": 111,
   "metadata": {},
   "outputs": [],
   "source": [
    "import numpy as np\n",
    "import copy\n",
    "import pandas as pd\n",
    "import seaborn as sns\n",
    "import matplotlib.pyplot as plt\n",
    "import statsmodels.api as sm\n",
    "import datetime as dt\n",
    "import math\n",
    "from dateutil.relativedelta import relativedelta\n",
    "from scipy import stats\n",
    "from sklearn.linear_model import LogisticRegression\n",
    "from sklearn.linear_model import LogisticRegressionCV\n",
    "from sklearn.preprocessing import OneHotEncoder\n",
    "from sklearn.preprocessing import StandardScaler\n",
    "from sklearn.model_selection import train_test_split\n",
    "from sklearn.utils.fixes import signature\n",
    "from sklearn import metrics\n",
    "from collections import defaultdict"
   ]
  },
  {
   "cell_type": "markdown",
   "metadata": {},
   "source": [
    "### Read In Data"
   ]
  },
  {
   "cell_type": "code",
   "execution_count": 2,
   "metadata": {},
   "outputs": [],
   "source": [
    "df = pd.read_csv(\"loan.csv\", usecols=[\"loan_amnt\", \"funded_amnt\", \"term\", \"int_rate\", \"grade\", \"annual_inc\",\\\n",
    "                                        \"issue_d\", \"dti\", \"revol_bal\", \"total_pymnt\", \"loan_status\"])  "
   ]
  },
  {
   "cell_type": "markdown",
   "metadata": {},
   "source": [
    "### Data / Data Types"
   ]
  },
  {
   "cell_type": "markdown",
   "metadata": {},
   "source": [
    "First we can take a quick look at our data."
   ]
  },
  {
   "cell_type": "code",
   "execution_count": 3,
   "metadata": {},
   "outputs": [
    {
     "data": {
      "text/html": [
       "<div>\n",
       "<style scoped>\n",
       "    .dataframe tbody tr th:only-of-type {\n",
       "        vertical-align: middle;\n",
       "    }\n",
       "\n",
       "    .dataframe tbody tr th {\n",
       "        vertical-align: top;\n",
       "    }\n",
       "\n",
       "    .dataframe thead th {\n",
       "        text-align: right;\n",
       "    }\n",
       "</style>\n",
       "<table border=\"1\" class=\"dataframe\">\n",
       "  <thead>\n",
       "    <tr style=\"text-align: right;\">\n",
       "      <th></th>\n",
       "      <th>loan_amnt</th>\n",
       "      <th>funded_amnt</th>\n",
       "      <th>term</th>\n",
       "      <th>int_rate</th>\n",
       "      <th>grade</th>\n",
       "      <th>annual_inc</th>\n",
       "      <th>issue_d</th>\n",
       "      <th>loan_status</th>\n",
       "      <th>dti</th>\n",
       "      <th>revol_bal</th>\n",
       "      <th>total_pymnt</th>\n",
       "    </tr>\n",
       "  </thead>\n",
       "  <tbody>\n",
       "    <tr>\n",
       "      <th>0</th>\n",
       "      <td>5000.0</td>\n",
       "      <td>5000.0</td>\n",
       "      <td>36 months</td>\n",
       "      <td>10.65</td>\n",
       "      <td>B</td>\n",
       "      <td>24000.0</td>\n",
       "      <td>Dec-2011</td>\n",
       "      <td>Fully Paid</td>\n",
       "      <td>27.65</td>\n",
       "      <td>13648.0</td>\n",
       "      <td>5861.071414</td>\n",
       "    </tr>\n",
       "    <tr>\n",
       "      <th>1</th>\n",
       "      <td>2500.0</td>\n",
       "      <td>2500.0</td>\n",
       "      <td>60 months</td>\n",
       "      <td>15.27</td>\n",
       "      <td>C</td>\n",
       "      <td>30000.0</td>\n",
       "      <td>Dec-2011</td>\n",
       "      <td>Charged Off</td>\n",
       "      <td>1.00</td>\n",
       "      <td>1687.0</td>\n",
       "      <td>1008.710000</td>\n",
       "    </tr>\n",
       "    <tr>\n",
       "      <th>2</th>\n",
       "      <td>2400.0</td>\n",
       "      <td>2400.0</td>\n",
       "      <td>36 months</td>\n",
       "      <td>15.96</td>\n",
       "      <td>C</td>\n",
       "      <td>12252.0</td>\n",
       "      <td>Dec-2011</td>\n",
       "      <td>Fully Paid</td>\n",
       "      <td>8.72</td>\n",
       "      <td>2956.0</td>\n",
       "      <td>3003.653644</td>\n",
       "    </tr>\n",
       "    <tr>\n",
       "      <th>3</th>\n",
       "      <td>10000.0</td>\n",
       "      <td>10000.0</td>\n",
       "      <td>36 months</td>\n",
       "      <td>13.49</td>\n",
       "      <td>C</td>\n",
       "      <td>49200.0</td>\n",
       "      <td>Dec-2011</td>\n",
       "      <td>Fully Paid</td>\n",
       "      <td>20.00</td>\n",
       "      <td>5598.0</td>\n",
       "      <td>12226.302212</td>\n",
       "    </tr>\n",
       "    <tr>\n",
       "      <th>4</th>\n",
       "      <td>3000.0</td>\n",
       "      <td>3000.0</td>\n",
       "      <td>60 months</td>\n",
       "      <td>12.69</td>\n",
       "      <td>B</td>\n",
       "      <td>80000.0</td>\n",
       "      <td>Dec-2011</td>\n",
       "      <td>Current</td>\n",
       "      <td>17.94</td>\n",
       "      <td>27783.0</td>\n",
       "      <td>3242.170000</td>\n",
       "    </tr>\n",
       "  </tbody>\n",
       "</table>\n",
       "</div>"
      ],
      "text/plain": [
       "   loan_amnt  funded_amnt        term  int_rate grade  annual_inc   issue_d  \\\n",
       "0     5000.0       5000.0   36 months     10.65     B     24000.0  Dec-2011   \n",
       "1     2500.0       2500.0   60 months     15.27     C     30000.0  Dec-2011   \n",
       "2     2400.0       2400.0   36 months     15.96     C     12252.0  Dec-2011   \n",
       "3    10000.0      10000.0   36 months     13.49     C     49200.0  Dec-2011   \n",
       "4     3000.0       3000.0   60 months     12.69     B     80000.0  Dec-2011   \n",
       "\n",
       "   loan_status    dti  revol_bal   total_pymnt  \n",
       "0   Fully Paid  27.65    13648.0   5861.071414  \n",
       "1  Charged Off   1.00     1687.0   1008.710000  \n",
       "2   Fully Paid   8.72     2956.0   3003.653644  \n",
       "3   Fully Paid  20.00     5598.0  12226.302212  \n",
       "4      Current  17.94    27783.0   3242.170000  "
      ]
     },
     "execution_count": 3,
     "metadata": {},
     "output_type": "execute_result"
    }
   ],
   "source": [
    "df.head()"
   ]
  },
  {
   "cell_type": "code",
   "execution_count": 4,
   "metadata": {},
   "outputs": [
    {
     "data": {
      "text/plain": [
       "(887379, 11)"
      ]
     },
     "execution_count": 4,
     "metadata": {},
     "output_type": "execute_result"
    }
   ],
   "source": [
    "df.shape"
   ]
  },
  {
   "cell_type": "markdown",
   "metadata": {},
   "source": [
    "And the associated inferred datatypes from Pandas."
   ]
  },
  {
   "cell_type": "code",
   "execution_count": 5,
   "metadata": {},
   "outputs": [
    {
     "data": {
      "text/plain": [
       "loan_amnt      float64\n",
       "funded_amnt    float64\n",
       "term            object\n",
       "int_rate       float64\n",
       "grade           object\n",
       "annual_inc     float64\n",
       "issue_d         object\n",
       "loan_status     object\n",
       "dti            float64\n",
       "revol_bal      float64\n",
       "total_pymnt    float64\n",
       "dtype: object"
      ]
     },
     "execution_count": 5,
     "metadata": {},
     "output_type": "execute_result"
    }
   ],
   "source": [
    "df.dtypes"
   ]
  },
  {
   "cell_type": "markdown",
   "metadata": {},
   "source": [
    "Based on the data these inferred types seem reasonable, as we have float types inferred for apparent numeric columns and object (String) types inferred for the apparent string columns displayed above. One small change we will make, for ease of analysis, is to convert the 'issue_d' column to datetime."
   ]
  },
  {
   "cell_type": "code",
   "execution_count": 6,
   "metadata": {},
   "outputs": [],
   "source": [
    "df[\"issue_d\"] = pd.to_datetime(df[\"issue_d\"])"
   ]
  },
  {
   "cell_type": "code",
   "execution_count": 7,
   "metadata": {},
   "outputs": [
    {
     "data": {
      "text/plain": [
       "loan_amnt             float64\n",
       "funded_amnt           float64\n",
       "term                   object\n",
       "int_rate              float64\n",
       "grade                  object\n",
       "annual_inc            float64\n",
       "issue_d        datetime64[ns]\n",
       "loan_status            object\n",
       "dti                   float64\n",
       "revol_bal             float64\n",
       "total_pymnt           float64\n",
       "dtype: object"
      ]
     },
     "execution_count": 7,
     "metadata": {},
     "output_type": "execute_result"
    }
   ],
   "source": [
    "df.dtypes"
   ]
  },
  {
   "cell_type": "markdown",
   "metadata": {},
   "source": [
    "## 1. Exploratory Data Analysis"
   ]
  },
  {
   "cell_type": "markdown",
   "metadata": {},
   "source": [
    "### Step 1 - Checking NULL / Empty Strings / Missing Values"
   ]
  },
  {
   "cell_type": "markdown",
   "metadata": {},
   "source": [
    "First we will check numeric columns for NULL values."
   ]
  },
  {
   "cell_type": "code",
   "execution_count": 8,
   "metadata": {},
   "outputs": [
    {
     "data": {
      "text/plain": [
       "loan_amnt      0\n",
       "funded_amnt    0\n",
       "term           0\n",
       "int_rate       0\n",
       "grade          0\n",
       "annual_inc     4\n",
       "issue_d        0\n",
       "loan_status    0\n",
       "dti            0\n",
       "revol_bal      0\n",
       "total_pymnt    0\n",
       "dtype: int64"
      ]
     },
     "execution_count": 8,
     "metadata": {},
     "output_type": "execute_result"
    }
   ],
   "source": [
    "df.isna().sum()"
   ]
  },
  {
   "cell_type": "markdown",
   "metadata": {},
   "source": [
    "Next we will check all values of object (String/str) columns for blank or odd values."
   ]
  },
  {
   "cell_type": "code",
   "execution_count": 9,
   "metadata": {},
   "outputs": [
    {
     "data": {
      "text/plain": [
       "array([' 36 months', ' 60 months'], dtype=object)"
      ]
     },
     "execution_count": 9,
     "metadata": {},
     "output_type": "execute_result"
    }
   ],
   "source": [
    "df[\"term\"].unique()"
   ]
  },
  {
   "cell_type": "code",
   "execution_count": 10,
   "metadata": {},
   "outputs": [
    {
     "data": {
      "text/plain": [
       "array(['B', 'C', 'A', 'E', 'F', 'D', 'G'], dtype=object)"
      ]
     },
     "execution_count": 10,
     "metadata": {},
     "output_type": "execute_result"
    }
   ],
   "source": [
    "df[\"grade\"].unique()"
   ]
  },
  {
   "cell_type": "code",
   "execution_count": 11,
   "metadata": {},
   "outputs": [
    {
     "data": {
      "text/plain": [
       "array(['2011-12-01T00:00:00.000000000', '2011-11-01T00:00:00.000000000',\n",
       "       '2011-10-01T00:00:00.000000000', '2011-09-01T00:00:00.000000000',\n",
       "       '2011-08-01T00:00:00.000000000', '2011-07-01T00:00:00.000000000',\n",
       "       '2011-06-01T00:00:00.000000000', '2011-05-01T00:00:00.000000000',\n",
       "       '2011-04-01T00:00:00.000000000', '2011-03-01T00:00:00.000000000',\n",
       "       '2011-02-01T00:00:00.000000000', '2011-01-01T00:00:00.000000000',\n",
       "       '2010-12-01T00:00:00.000000000', '2010-11-01T00:00:00.000000000',\n",
       "       '2010-10-01T00:00:00.000000000', '2010-09-01T00:00:00.000000000',\n",
       "       '2010-08-01T00:00:00.000000000', '2010-07-01T00:00:00.000000000',\n",
       "       '2010-06-01T00:00:00.000000000', '2010-05-01T00:00:00.000000000',\n",
       "       '2010-04-01T00:00:00.000000000', '2010-03-01T00:00:00.000000000',\n",
       "       '2010-02-01T00:00:00.000000000', '2010-01-01T00:00:00.000000000',\n",
       "       '2009-12-01T00:00:00.000000000', '2009-11-01T00:00:00.000000000',\n",
       "       '2009-10-01T00:00:00.000000000', '2009-09-01T00:00:00.000000000',\n",
       "       '2009-08-01T00:00:00.000000000', '2009-07-01T00:00:00.000000000',\n",
       "       '2009-06-01T00:00:00.000000000', '2009-05-01T00:00:00.000000000',\n",
       "       '2009-04-01T00:00:00.000000000', '2009-03-01T00:00:00.000000000',\n",
       "       '2009-02-01T00:00:00.000000000', '2009-01-01T00:00:00.000000000',\n",
       "       '2008-12-01T00:00:00.000000000', '2008-11-01T00:00:00.000000000',\n",
       "       '2008-10-01T00:00:00.000000000', '2008-09-01T00:00:00.000000000',\n",
       "       '2008-08-01T00:00:00.000000000', '2008-07-01T00:00:00.000000000',\n",
       "       '2008-06-01T00:00:00.000000000', '2008-05-01T00:00:00.000000000',\n",
       "       '2008-04-01T00:00:00.000000000', '2008-03-01T00:00:00.000000000',\n",
       "       '2008-02-01T00:00:00.000000000', '2008-01-01T00:00:00.000000000',\n",
       "       '2007-12-01T00:00:00.000000000', '2007-11-01T00:00:00.000000000',\n",
       "       '2007-10-01T00:00:00.000000000', '2007-09-01T00:00:00.000000000',\n",
       "       '2007-08-01T00:00:00.000000000', '2007-07-01T00:00:00.000000000',\n",
       "       '2007-06-01T00:00:00.000000000', '2013-12-01T00:00:00.000000000',\n",
       "       '2013-11-01T00:00:00.000000000', '2013-10-01T00:00:00.000000000',\n",
       "       '2013-09-01T00:00:00.000000000', '2013-08-01T00:00:00.000000000',\n",
       "       '2013-07-01T00:00:00.000000000', '2013-06-01T00:00:00.000000000',\n",
       "       '2013-05-01T00:00:00.000000000', '2013-04-01T00:00:00.000000000',\n",
       "       '2013-03-01T00:00:00.000000000', '2013-02-01T00:00:00.000000000',\n",
       "       '2013-01-01T00:00:00.000000000', '2012-12-01T00:00:00.000000000',\n",
       "       '2012-11-01T00:00:00.000000000', '2012-10-01T00:00:00.000000000',\n",
       "       '2012-09-01T00:00:00.000000000', '2012-08-01T00:00:00.000000000',\n",
       "       '2012-07-01T00:00:00.000000000', '2012-06-01T00:00:00.000000000',\n",
       "       '2012-05-01T00:00:00.000000000', '2012-04-01T00:00:00.000000000',\n",
       "       '2012-03-01T00:00:00.000000000', '2012-02-01T00:00:00.000000000',\n",
       "       '2012-01-01T00:00:00.000000000', '2014-12-01T00:00:00.000000000',\n",
       "       '2014-11-01T00:00:00.000000000', '2014-10-01T00:00:00.000000000',\n",
       "       '2014-09-01T00:00:00.000000000', '2014-08-01T00:00:00.000000000',\n",
       "       '2014-07-01T00:00:00.000000000', '2014-06-01T00:00:00.000000000',\n",
       "       '2014-05-01T00:00:00.000000000', '2014-04-01T00:00:00.000000000',\n",
       "       '2014-03-01T00:00:00.000000000', '2014-02-01T00:00:00.000000000',\n",
       "       '2014-01-01T00:00:00.000000000', '2015-12-01T00:00:00.000000000',\n",
       "       '2015-11-01T00:00:00.000000000', '2015-10-01T00:00:00.000000000',\n",
       "       '2015-09-01T00:00:00.000000000', '2015-08-01T00:00:00.000000000',\n",
       "       '2015-07-01T00:00:00.000000000', '2015-06-01T00:00:00.000000000',\n",
       "       '2015-05-01T00:00:00.000000000', '2015-04-01T00:00:00.000000000',\n",
       "       '2015-03-01T00:00:00.000000000', '2015-02-01T00:00:00.000000000',\n",
       "       '2015-01-01T00:00:00.000000000'], dtype='datetime64[ns]')"
      ]
     },
     "execution_count": 11,
     "metadata": {},
     "output_type": "execute_result"
    }
   ],
   "source": [
    "df[\"issue_d\"].unique()"
   ]
  },
  {
   "cell_type": "code",
   "execution_count": 12,
   "metadata": {},
   "outputs": [
    {
     "data": {
      "text/plain": [
       "array(['Fully Paid', 'Charged Off', 'Current', 'Default',\n",
       "       'Late (31-120 days)', 'In Grace Period', 'Late (16-30 days)',\n",
       "       'Does not meet the credit policy. Status:Fully Paid',\n",
       "       'Does not meet the credit policy. Status:Charged Off', 'Issued'],\n",
       "      dtype=object)"
      ]
     },
     "execution_count": 12,
     "metadata": {},
     "output_type": "execute_result"
    }
   ],
   "source": [
    "df[\"loan_status\"].unique()"
   ]
  },
  {
   "cell_type": "markdown",
   "metadata": {},
   "source": [
    "Based on the above analysis, it appears there are missing values in the 'annual_inc' column. All other columns appear to have no NULL, blank, or otherwise missing values.\n",
    "We can take a close look at the rows corresponding to NULL values in the 'annual_inc' column."
   ]
  },
  {
   "cell_type": "code",
   "execution_count": 13,
   "metadata": {},
   "outputs": [
    {
     "data": {
      "text/html": [
       "<div>\n",
       "<style scoped>\n",
       "    .dataframe tbody tr th:only-of-type {\n",
       "        vertical-align: middle;\n",
       "    }\n",
       "\n",
       "    .dataframe tbody tr th {\n",
       "        vertical-align: top;\n",
       "    }\n",
       "\n",
       "    .dataframe thead th {\n",
       "        text-align: right;\n",
       "    }\n",
       "</style>\n",
       "<table border=\"1\" class=\"dataframe\">\n",
       "  <thead>\n",
       "    <tr style=\"text-align: right;\">\n",
       "      <th></th>\n",
       "      <th>loan_amnt</th>\n",
       "      <th>funded_amnt</th>\n",
       "      <th>term</th>\n",
       "      <th>int_rate</th>\n",
       "      <th>grade</th>\n",
       "      <th>annual_inc</th>\n",
       "      <th>issue_d</th>\n",
       "      <th>loan_status</th>\n",
       "      <th>dti</th>\n",
       "      <th>revol_bal</th>\n",
       "      <th>total_pymnt</th>\n",
       "    </tr>\n",
       "  </thead>\n",
       "  <tbody>\n",
       "    <tr>\n",
       "      <th>42449</th>\n",
       "      <td>5000.0</td>\n",
       "      <td>5000.0</td>\n",
       "      <td>36 months</td>\n",
       "      <td>7.43</td>\n",
       "      <td>A</td>\n",
       "      <td>NaN</td>\n",
       "      <td>2007-08-01</td>\n",
       "      <td>Does not meet the credit policy. Status:Fully ...</td>\n",
       "      <td>1.0</td>\n",
       "      <td>0.0</td>\n",
       "      <td>5593.46</td>\n",
       "    </tr>\n",
       "    <tr>\n",
       "      <th>42450</th>\n",
       "      <td>7000.0</td>\n",
       "      <td>7000.0</td>\n",
       "      <td>36 months</td>\n",
       "      <td>7.75</td>\n",
       "      <td>A</td>\n",
       "      <td>NaN</td>\n",
       "      <td>2007-08-01</td>\n",
       "      <td>Does not meet the credit policy. Status:Fully ...</td>\n",
       "      <td>1.0</td>\n",
       "      <td>0.0</td>\n",
       "      <td>7867.53</td>\n",
       "    </tr>\n",
       "    <tr>\n",
       "      <th>42480</th>\n",
       "      <td>6700.0</td>\n",
       "      <td>6700.0</td>\n",
       "      <td>36 months</td>\n",
       "      <td>7.75</td>\n",
       "      <td>A</td>\n",
       "      <td>NaN</td>\n",
       "      <td>2007-07-01</td>\n",
       "      <td>Does not meet the credit policy. Status:Fully ...</td>\n",
       "      <td>1.0</td>\n",
       "      <td>0.0</td>\n",
       "      <td>7530.42</td>\n",
       "    </tr>\n",
       "    <tr>\n",
       "      <th>42533</th>\n",
       "      <td>6500.0</td>\n",
       "      <td>6500.0</td>\n",
       "      <td>36 months</td>\n",
       "      <td>8.38</td>\n",
       "      <td>A</td>\n",
       "      <td>NaN</td>\n",
       "      <td>2007-06-01</td>\n",
       "      <td>Does not meet the credit policy. Status:Fully ...</td>\n",
       "      <td>4.0</td>\n",
       "      <td>0.0</td>\n",
       "      <td>7373.83</td>\n",
       "    </tr>\n",
       "  </tbody>\n",
       "</table>\n",
       "</div>"
      ],
      "text/plain": [
       "       loan_amnt  funded_amnt        term  int_rate grade  annual_inc  \\\n",
       "42449     5000.0       5000.0   36 months      7.43     A         NaN   \n",
       "42450     7000.0       7000.0   36 months      7.75     A         NaN   \n",
       "42480     6700.0       6700.0   36 months      7.75     A         NaN   \n",
       "42533     6500.0       6500.0   36 months      8.38     A         NaN   \n",
       "\n",
       "         issue_d                                        loan_status  dti  \\\n",
       "42449 2007-08-01  Does not meet the credit policy. Status:Fully ...  1.0   \n",
       "42450 2007-08-01  Does not meet the credit policy. Status:Fully ...  1.0   \n",
       "42480 2007-07-01  Does not meet the credit policy. Status:Fully ...  1.0   \n",
       "42533 2007-06-01  Does not meet the credit policy. Status:Fully ...  4.0   \n",
       "\n",
       "       revol_bal  total_pymnt  \n",
       "42449        0.0      5593.46  \n",
       "42450        0.0      7867.53  \n",
       "42480        0.0      7530.42  \n",
       "42533        0.0      7373.83  "
      ]
     },
     "execution_count": 13,
     "metadata": {},
     "output_type": "execute_result"
    }
   ],
   "source": [
    "df[df.isnull().any(axis=1)]"
   ]
  },
  {
   "cell_type": "markdown",
   "metadata": {},
   "source": [
    "These NULL/NaN values are clustered in the mid-2007 period. This could also be due to internal issues with the LendingClub database or lack of requirements for reporting annual income within the database / front end. We will avoid dropping these records for now. If there is a business case to fill in these values then additional techniques such as imputation (using mean, MICE, or other methods) could be explored at a later time."
   ]
  },
  {
   "cell_type": "code",
   "execution_count": 14,
   "metadata": {},
   "outputs": [
    {
     "data": {
      "text/plain": [
       "(887379, 11)"
      ]
     },
     "execution_count": 14,
     "metadata": {},
     "output_type": "execute_result"
    }
   ],
   "source": [
    "df.shape"
   ]
  },
  {
   "cell_type": "markdown",
   "metadata": {},
   "source": [
    "### Step 2 - Initial EDA"
   ]
  },
  {
   "cell_type": "code",
   "execution_count": 15,
   "metadata": {},
   "outputs": [
    {
     "data": {
      "text/html": [
       "<div>\n",
       "<style scoped>\n",
       "    .dataframe tbody tr th:only-of-type {\n",
       "        vertical-align: middle;\n",
       "    }\n",
       "\n",
       "    .dataframe tbody tr th {\n",
       "        vertical-align: top;\n",
       "    }\n",
       "\n",
       "    .dataframe thead th {\n",
       "        text-align: right;\n",
       "    }\n",
       "</style>\n",
       "<table border=\"1\" class=\"dataframe\">\n",
       "  <thead>\n",
       "    <tr style=\"text-align: right;\">\n",
       "      <th></th>\n",
       "      <th>loan_amnt</th>\n",
       "      <th>funded_amnt</th>\n",
       "      <th>int_rate</th>\n",
       "      <th>annual_inc</th>\n",
       "      <th>dti</th>\n",
       "      <th>revol_bal</th>\n",
       "      <th>total_pymnt</th>\n",
       "    </tr>\n",
       "  </thead>\n",
       "  <tbody>\n",
       "    <tr>\n",
       "      <th>count</th>\n",
       "      <td>887379.000000</td>\n",
       "      <td>887379.000000</td>\n",
       "      <td>887379.000000</td>\n",
       "      <td>8.873750e+05</td>\n",
       "      <td>887379.000000</td>\n",
       "      <td>8.873790e+05</td>\n",
       "      <td>887379.000000</td>\n",
       "    </tr>\n",
       "    <tr>\n",
       "      <th>mean</th>\n",
       "      <td>14755.264605</td>\n",
       "      <td>14741.877625</td>\n",
       "      <td>13.246740</td>\n",
       "      <td>7.502759e+04</td>\n",
       "      <td>18.157039</td>\n",
       "      <td>1.692079e+04</td>\n",
       "      <td>7558.826684</td>\n",
       "    </tr>\n",
       "    <tr>\n",
       "      <th>std</th>\n",
       "      <td>8435.455601</td>\n",
       "      <td>8429.897657</td>\n",
       "      <td>4.381867</td>\n",
       "      <td>6.469830e+04</td>\n",
       "      <td>17.190626</td>\n",
       "      <td>2.242679e+04</td>\n",
       "      <td>7871.243336</td>\n",
       "    </tr>\n",
       "    <tr>\n",
       "      <th>min</th>\n",
       "      <td>500.000000</td>\n",
       "      <td>500.000000</td>\n",
       "      <td>5.320000</td>\n",
       "      <td>0.000000e+00</td>\n",
       "      <td>0.000000</td>\n",
       "      <td>0.000000e+00</td>\n",
       "      <td>0.000000</td>\n",
       "    </tr>\n",
       "    <tr>\n",
       "      <th>25%</th>\n",
       "      <td>8000.000000</td>\n",
       "      <td>8000.000000</td>\n",
       "      <td>9.990000</td>\n",
       "      <td>4.500000e+04</td>\n",
       "      <td>11.910000</td>\n",
       "      <td>6.443000e+03</td>\n",
       "      <td>1914.590000</td>\n",
       "    </tr>\n",
       "    <tr>\n",
       "      <th>50%</th>\n",
       "      <td>13000.000000</td>\n",
       "      <td>13000.000000</td>\n",
       "      <td>12.990000</td>\n",
       "      <td>6.500000e+04</td>\n",
       "      <td>17.650000</td>\n",
       "      <td>1.187500e+04</td>\n",
       "      <td>4894.999117</td>\n",
       "    </tr>\n",
       "    <tr>\n",
       "      <th>75%</th>\n",
       "      <td>20000.000000</td>\n",
       "      <td>20000.000000</td>\n",
       "      <td>16.200000</td>\n",
       "      <td>9.000000e+04</td>\n",
       "      <td>23.950000</td>\n",
       "      <td>2.082900e+04</td>\n",
       "      <td>10616.814231</td>\n",
       "    </tr>\n",
       "    <tr>\n",
       "      <th>max</th>\n",
       "      <td>35000.000000</td>\n",
       "      <td>35000.000000</td>\n",
       "      <td>28.990000</td>\n",
       "      <td>9.500000e+06</td>\n",
       "      <td>9999.000000</td>\n",
       "      <td>2.904836e+06</td>\n",
       "      <td>57777.579870</td>\n",
       "    </tr>\n",
       "  </tbody>\n",
       "</table>\n",
       "</div>"
      ],
      "text/plain": [
       "           loan_amnt    funded_amnt       int_rate    annual_inc  \\\n",
       "count  887379.000000  887379.000000  887379.000000  8.873750e+05   \n",
       "mean    14755.264605   14741.877625      13.246740  7.502759e+04   \n",
       "std      8435.455601    8429.897657       4.381867  6.469830e+04   \n",
       "min       500.000000     500.000000       5.320000  0.000000e+00   \n",
       "25%      8000.000000    8000.000000       9.990000  4.500000e+04   \n",
       "50%     13000.000000   13000.000000      12.990000  6.500000e+04   \n",
       "75%     20000.000000   20000.000000      16.200000  9.000000e+04   \n",
       "max     35000.000000   35000.000000      28.990000  9.500000e+06   \n",
       "\n",
       "                 dti     revol_bal    total_pymnt  \n",
       "count  887379.000000  8.873790e+05  887379.000000  \n",
       "mean       18.157039  1.692079e+04    7558.826684  \n",
       "std        17.190626  2.242679e+04    7871.243336  \n",
       "min         0.000000  0.000000e+00       0.000000  \n",
       "25%        11.910000  6.443000e+03    1914.590000  \n",
       "50%        17.650000  1.187500e+04    4894.999117  \n",
       "75%        23.950000  2.082900e+04   10616.814231  \n",
       "max      9999.000000  2.904836e+06   57777.579870  "
      ]
     },
     "metadata": {},
     "output_type": "display_data"
    }
   ],
   "source": [
    "df_desc = df.describe()\n",
    "display(df_desc)"
   ]
  },
  {
   "cell_type": "markdown",
   "metadata": {},
   "source": [
    "Initial Observations:\n",
    "\n",
    "1. Loan application amount and funded amount appear to have very similar distributions, we will verify this later.\n",
    "2. Interest rates seem have somewhat higher variance than expected.\n",
    "3. Annual income seems to be right skewed as expected.\n",
    "4. Debt-to-income seems to have relatively high variance."
   ]
  },
  {
   "cell_type": "code",
   "execution_count": 16,
   "metadata": {},
   "outputs": [
    {
     "data": {
      "text/html": [
       "<div>\n",
       "<style scoped>\n",
       "    .dataframe tbody tr th:only-of-type {\n",
       "        vertical-align: middle;\n",
       "    }\n",
       "\n",
       "    .dataframe tbody tr th {\n",
       "        vertical-align: top;\n",
       "    }\n",
       "\n",
       "    .dataframe thead th {\n",
       "        text-align: right;\n",
       "    }\n",
       "</style>\n",
       "<table border=\"1\" class=\"dataframe\">\n",
       "  <thead>\n",
       "    <tr style=\"text-align: right;\">\n",
       "      <th></th>\n",
       "      <th>loan_amnt</th>\n",
       "      <th>funded_amnt</th>\n",
       "      <th>int_rate</th>\n",
       "      <th>annual_inc</th>\n",
       "      <th>dti</th>\n",
       "      <th>revol_bal</th>\n",
       "      <th>total_pymnt</th>\n",
       "    </tr>\n",
       "  </thead>\n",
       "  <tbody>\n",
       "    <tr>\n",
       "      <th>loan_amnt</th>\n",
       "      <td>1.000000</td>\n",
       "      <td>0.999263</td>\n",
       "      <td>0.145023</td>\n",
       "      <td>0.332698</td>\n",
       "      <td>0.020675</td>\n",
       "      <td>0.333580</td>\n",
       "      <td>0.474626</td>\n",
       "    </tr>\n",
       "    <tr>\n",
       "      <th>funded_amnt</th>\n",
       "      <td>0.999263</td>\n",
       "      <td>1.000000</td>\n",
       "      <td>0.145160</td>\n",
       "      <td>0.332466</td>\n",
       "      <td>0.021075</td>\n",
       "      <td>0.333435</td>\n",
       "      <td>0.473286</td>\n",
       "    </tr>\n",
       "    <tr>\n",
       "      <th>int_rate</th>\n",
       "      <td>0.145023</td>\n",
       "      <td>0.145160</td>\n",
       "      <td>1.000000</td>\n",
       "      <td>-0.072786</td>\n",
       "      <td>0.079903</td>\n",
       "      <td>-0.035708</td>\n",
       "      <td>0.170506</td>\n",
       "    </tr>\n",
       "    <tr>\n",
       "      <th>annual_inc</th>\n",
       "      <td>0.332698</td>\n",
       "      <td>0.332466</td>\n",
       "      <td>-0.072786</td>\n",
       "      <td>1.000000</td>\n",
       "      <td>-0.087410</td>\n",
       "      <td>0.295784</td>\n",
       "      <td>0.160879</td>\n",
       "    </tr>\n",
       "    <tr>\n",
       "      <th>dti</th>\n",
       "      <td>0.020675</td>\n",
       "      <td>0.021075</td>\n",
       "      <td>0.079903</td>\n",
       "      <td>-0.087410</td>\n",
       "      <td>1.000000</td>\n",
       "      <td>0.067277</td>\n",
       "      <td>-0.041529</td>\n",
       "    </tr>\n",
       "    <tr>\n",
       "      <th>revol_bal</th>\n",
       "      <td>0.333580</td>\n",
       "      <td>0.333435</td>\n",
       "      <td>-0.035708</td>\n",
       "      <td>0.295784</td>\n",
       "      <td>0.067277</td>\n",
       "      <td>1.000000</td>\n",
       "      <td>0.138328</td>\n",
       "    </tr>\n",
       "    <tr>\n",
       "      <th>total_pymnt</th>\n",
       "      <td>0.474626</td>\n",
       "      <td>0.473286</td>\n",
       "      <td>0.170506</td>\n",
       "      <td>0.160879</td>\n",
       "      <td>-0.041529</td>\n",
       "      <td>0.138328</td>\n",
       "      <td>1.000000</td>\n",
       "    </tr>\n",
       "  </tbody>\n",
       "</table>\n",
       "</div>"
      ],
      "text/plain": [
       "             loan_amnt  funded_amnt  int_rate  annual_inc       dti  \\\n",
       "loan_amnt     1.000000     0.999263  0.145023    0.332698  0.020675   \n",
       "funded_amnt   0.999263     1.000000  0.145160    0.332466  0.021075   \n",
       "int_rate      0.145023     0.145160  1.000000   -0.072786  0.079903   \n",
       "annual_inc    0.332698     0.332466 -0.072786    1.000000 -0.087410   \n",
       "dti           0.020675     0.021075  0.079903   -0.087410  1.000000   \n",
       "revol_bal     0.333580     0.333435 -0.035708    0.295784  0.067277   \n",
       "total_pymnt   0.474626     0.473286  0.170506    0.160879 -0.041529   \n",
       "\n",
       "             revol_bal  total_pymnt  \n",
       "loan_amnt     0.333580     0.474626  \n",
       "funded_amnt   0.333435     0.473286  \n",
       "int_rate     -0.035708     0.170506  \n",
       "annual_inc    0.295784     0.160879  \n",
       "dti           0.067277    -0.041529  \n",
       "revol_bal     1.000000     0.138328  \n",
       "total_pymnt   0.138328     1.000000  "
      ]
     },
     "execution_count": 16,
     "metadata": {},
     "output_type": "execute_result"
    }
   ],
   "source": [
    "df.corr()"
   ]
  },
  {
   "cell_type": "code",
   "execution_count": 17,
   "metadata": {},
   "outputs": [
    {
     "data": {
      "text/plain": [
       "<matplotlib.axes._subplots.AxesSubplot at 0x1a20751e10>"
      ]
     },
     "execution_count": 17,
     "metadata": {},
     "output_type": "execute_result"
    },
    {
     "data": {
      "image/png": "[encoded data removed]",
      "text/plain": [
       "<Figure size 432x288 with 2 Axes>"
      ]
     },
     "metadata": {
      "needs_background": "light"
     },
     "output_type": "display_data"
    }
   ],
   "source": [
    "corr = df.corr()\n",
    "sns.heatmap(corr, \n",
    "        xticklabels=corr.columns,\n",
    "        yticklabels=corr.columns, annot=True)"
   ]
  },
  {
   "cell_type": "markdown",
   "metadata": {},
   "source": [
    "Correlation Observations:\n",
    "\n",
    "1. Loan application amount and funding amount appear to be highly correlated (approaching 1.0).\n",
    "2. Loan application amount, funding amount, annual income, revolving balance, and total payment all appear to be moderate-highly positively correlated.\n",
    "\n",
    "All of these correlations seem reasonable and conform to my expectations about the loan application process, credit requirements, and nature of these fields."
   ]
  },
  {
   "cell_type": "markdown",
   "metadata": {},
   "source": [
    "Next we will plot distributions for the numeric columns."
   ]
  },
  {
   "cell_type": "code",
   "execution_count": 18,
   "metadata": {},
   "outputs": [
    {
     "name": "stderr",
     "output_type": "stream",
     "text": [
      "/Users/Samuel/anaconda3/lib/python3.6/site-packages/scipy/stats/stats.py:1713: FutureWarning: Using a non-tuple sequence for multidimensional indexing is deprecated; use `arr[tuple(seq)]` instead of `arr[seq]`. In the future this will be interpreted as an array index, `arr[np.array(seq)]`, which will result either in an error or a different result.\n",
      "  return np.add.reduce(sorted[indexer] * weights, axis=axis) / sumval\n"
     ]
    },
    {
     "data": {
      "image/png": "[encoded data removed]",
      "text/plain": [
       "<Figure size 432x288 with 1 Axes>"
      ]
     },
     "metadata": {
      "needs_background": "light"
     },
     "output_type": "display_data"
    }
   ],
   "source": [
    "sns.distplot(df[\"loan_amnt\"], kde=False, rug=True);"
   ]
  },
  {
   "cell_type": "code",
   "execution_count": 19,
   "metadata": {},
   "outputs": [
    {
     "data": {
      "text/html": [
       "<div>\n",
       "<style scoped>\n",
       "    .dataframe tbody tr th:only-of-type {\n",
       "        vertical-align: middle;\n",
       "    }\n",
       "\n",
       "    .dataframe tbody tr th {\n",
       "        vertical-align: top;\n",
       "    }\n",
       "\n",
       "    .dataframe thead th {\n",
       "        text-align: right;\n",
       "    }\n",
       "</style>\n",
       "<table border=\"1\" class=\"dataframe\">\n",
       "  <thead>\n",
       "    <tr style=\"text-align: right;\">\n",
       "      <th></th>\n",
       "      <th>loan_amnt</th>\n",
       "      <th>count</th>\n",
       "    </tr>\n",
       "  </thead>\n",
       "  <tbody>\n",
       "    <tr>\n",
       "      <th>371</th>\n",
       "      <td>10000.0</td>\n",
       "      <td>61837</td>\n",
       "    </tr>\n",
       "    <tr>\n",
       "      <th>451</th>\n",
       "      <td>12000.0</td>\n",
       "      <td>50183</td>\n",
       "    </tr>\n",
       "    <tr>\n",
       "      <th>571</th>\n",
       "      <td>15000.0</td>\n",
       "      <td>47210</td>\n",
       "    </tr>\n",
       "    <tr>\n",
       "      <th>771</th>\n",
       "      <td>20000.0</td>\n",
       "      <td>46932</td>\n",
       "    </tr>\n",
       "    <tr>\n",
       "      <th>1371</th>\n",
       "      <td>35000.0</td>\n",
       "      <td>36368</td>\n",
       "    </tr>\n",
       "    <tr>\n",
       "      <th>291</th>\n",
       "      <td>8000.0</td>\n",
       "      <td>27870</td>\n",
       "    </tr>\n",
       "    <tr>\n",
       "      <th>171</th>\n",
       "      <td>5000.0</td>\n",
       "      <td>27167</td>\n",
       "    </tr>\n",
       "    <tr>\n",
       "      <th>211</th>\n",
       "      <td>6000.0</td>\n",
       "      <td>26207</td>\n",
       "    </tr>\n",
       "    <tr>\n",
       "      <th>971</th>\n",
       "      <td>25000.0</td>\n",
       "      <td>24125</td>\n",
       "    </tr>\n",
       "    <tr>\n",
       "      <th>611</th>\n",
       "      <td>16000.0</td>\n",
       "      <td>23708</td>\n",
       "    </tr>\n",
       "    <tr>\n",
       "      <th>931</th>\n",
       "      <td>24000.0</td>\n",
       "      <td>22323</td>\n",
       "    </tr>\n",
       "    <tr>\n",
       "      <th>691</th>\n",
       "      <td>18000.0</td>\n",
       "      <td>22136</td>\n",
       "    </tr>\n",
       "    <tr>\n",
       "      <th>1171</th>\n",
       "      <td>30000.0</td>\n",
       "      <td>17588</td>\n",
       "    </tr>\n",
       "    <tr>\n",
       "      <th>1091</th>\n",
       "      <td>28000.0</td>\n",
       "      <td>14909</td>\n",
       "    </tr>\n",
       "    <tr>\n",
       "      <th>251</th>\n",
       "      <td>7000.0</td>\n",
       "      <td>14135</td>\n",
       "    </tr>\n",
       "    <tr>\n",
       "      <th>531</th>\n",
       "      <td>14000.0</td>\n",
       "      <td>13363</td>\n",
       "    </tr>\n",
       "    <tr>\n",
       "      <th>811</th>\n",
       "      <td>21000.0</td>\n",
       "      <td>12060</td>\n",
       "    </tr>\n",
       "    <tr>\n",
       "      <th>331</th>\n",
       "      <td>9000.0</td>\n",
       "      <td>11144</td>\n",
       "    </tr>\n",
       "    <tr>\n",
       "      <th>131</th>\n",
       "      <td>4000.0</td>\n",
       "      <td>10524</td>\n",
       "    </tr>\n",
       "    <tr>\n",
       "      <th>91</th>\n",
       "      <td>3000.0</td>\n",
       "      <td>9714</td>\n",
       "    </tr>\n",
       "  </tbody>\n",
       "</table>\n",
       "</div>"
      ],
      "text/plain": [
       "      loan_amnt  count\n",
       "371     10000.0  61837\n",
       "451     12000.0  50183\n",
       "571     15000.0  47210\n",
       "771     20000.0  46932\n",
       "1371    35000.0  36368\n",
       "291      8000.0  27870\n",
       "171      5000.0  27167\n",
       "211      6000.0  26207\n",
       "971     25000.0  24125\n",
       "611     16000.0  23708\n",
       "931     24000.0  22323\n",
       "691     18000.0  22136\n",
       "1171    30000.0  17588\n",
       "1091    28000.0  14909\n",
       "251      7000.0  14135\n",
       "531     14000.0  13363\n",
       "811     21000.0  12060\n",
       "331      9000.0  11144\n",
       "131      4000.0  10524\n",
       "91       3000.0   9714"
      ]
     },
     "execution_count": 19,
     "metadata": {},
     "output_type": "execute_result"
    }
   ],
   "source": [
    "df.groupby([\"loan_amnt\"]).size().reset_index(name='count').sort_values(['count'], ascending=False).head(20)"
   ]
  },
  {
   "cell_type": "markdown",
   "metadata": {},
   "source": [
    "Loan application amount appears to be reasonably normally distribution in most cases. There are several values, including 10,000; 12,000; 15,000; 25,000; and 35,000 dollars, along with others that appear to be overly represented based on standard distributional assumptions. This is likely due to human preference for these numbers. "
   ]
  },
  {
   "cell_type": "code",
   "execution_count": 20,
   "metadata": {},
   "outputs": [
    {
     "data": {
      "image/png": "[encoded data removed]",
      "text/plain": [
       "<Figure size 432x288 with 1 Axes>"
      ]
     },
     "metadata": {
      "needs_background": "light"
     },
     "output_type": "display_data"
    }
   ],
   "source": [
    "sns.distplot(df[\"funded_amnt\"], kde=False, rug=True)\n",
    "plt.show()"
   ]
  },
  {
   "cell_type": "markdown",
   "metadata": {},
   "source": [
    "The distribution of funding amount closely mimics the distribution of loan application amount as expected."
   ]
  },
  {
   "cell_type": "code",
   "execution_count": 21,
   "metadata": {},
   "outputs": [
    {
     "data": {
      "image/png": "[encoded data removed]",
      "text/plain": [
       "<Figure size 432x288 with 1 Axes>"
      ]
     },
     "metadata": {
      "needs_background": "light"
     },
     "output_type": "display_data"
    }
   ],
   "source": [
    "sns.distplot(df[\"int_rate\"], kde=False, rug=True)\n",
    "plt.show()"
   ]
  },
  {
   "cell_type": "code",
   "execution_count": 22,
   "metadata": {
    "scrolled": true
   },
   "outputs": [
    {
     "data": {
      "text/html": [
       "<div>\n",
       "<style scoped>\n",
       "    .dataframe tbody tr th:only-of-type {\n",
       "        vertical-align: middle;\n",
       "    }\n",
       "\n",
       "    .dataframe tbody tr th {\n",
       "        vertical-align: top;\n",
       "    }\n",
       "\n",
       "    .dataframe thead th {\n",
       "        text-align: right;\n",
       "    }\n",
       "</style>\n",
       "<table border=\"1\" class=\"dataframe\">\n",
       "  <thead>\n",
       "    <tr style=\"text-align: right;\">\n",
       "      <th></th>\n",
       "      <th>int_rate</th>\n",
       "      <th>count</th>\n",
       "    </tr>\n",
       "  </thead>\n",
       "  <tbody>\n",
       "    <tr>\n",
       "      <th>110</th>\n",
       "      <td>10.99</td>\n",
       "      <td>34624</td>\n",
       "    </tr>\n",
       "    <tr>\n",
       "      <th>59</th>\n",
       "      <td>9.17</td>\n",
       "      <td>25720</td>\n",
       "    </tr>\n",
       "    <tr>\n",
       "      <th>287</th>\n",
       "      <td>15.61</td>\n",
       "      <td>25201</td>\n",
       "    </tr>\n",
       "    <tr>\n",
       "      <th>80</th>\n",
       "      <td>9.99</td>\n",
       "      <td>21553</td>\n",
       "    </tr>\n",
       "    <tr>\n",
       "      <th>38</th>\n",
       "      <td>7.89</td>\n",
       "      <td>20311</td>\n",
       "    </tr>\n",
       "  </tbody>\n",
       "</table>\n",
       "</div>"
      ],
      "text/plain": [
       "     int_rate  count\n",
       "110     10.99  34624\n",
       "59       9.17  25720\n",
       "287     15.61  25201\n",
       "80       9.99  21553\n",
       "38       7.89  20311"
      ]
     },
     "execution_count": 22,
     "metadata": {},
     "output_type": "execute_result"
    }
   ],
   "source": [
    "df.groupby([\"int_rate\"]).size().reset_index(name='count').sort_values(['count'], ascending=False).head()"
   ]
  },
  {
   "cell_type": "markdown",
   "metadata": {},
   "source": [
    "Interest rates appear to be reasonably distributed at first glance with no observable outliers. It is interesting to note the changes in density between different rate values in the plot."
   ]
  },
  {
   "cell_type": "code",
   "execution_count": 23,
   "metadata": {},
   "outputs": [
    {
     "data": {
      "image/png": "[encoded data removed]",
      "text/plain": [
       "<Figure size 432x288 with 1 Axes>"
      ]
     },
     "metadata": {
      "needs_background": "light"
     },
     "output_type": "display_data"
    }
   ],
   "source": [
    "sns.distplot(df[\"annual_inc\"].dropna(), kde=False, rug=True)\n",
    "plt.show()"
   ]
  },
  {
   "cell_type": "code",
   "execution_count": 24,
   "metadata": {},
   "outputs": [
    {
     "name": "stdout",
     "output_type": "stream",
     "text": [
      "323491.50071200065\n"
     ]
    },
    {
     "data": {
      "image/png": "[encoded data removed]",
      "text/plain": [
       "<Figure size 432x288 with 1 Axes>"
      ]
     },
     "metadata": {
      "needs_background": "light"
     },
     "output_type": "display_data"
    }
   ],
   "source": [
    "thresh = 5*df_desc[\"annual_inc\"][\"std\"]\n",
    "print(thresh)\n",
    "sns.distplot(df[abs(df[\"annual_inc\"]-df_desc[\"annual_inc\"][\"mean\"]) < thresh][\"annual_inc\"], kde=False, rug=True)\n",
    "plt.show()"
   ]
  },
  {
   "cell_type": "code",
   "execution_count": 25,
   "metadata": {},
   "outputs": [
    {
     "data": {
      "text/html": [
       "<div>\n",
       "<style scoped>\n",
       "    .dataframe tbody tr th:only-of-type {\n",
       "        vertical-align: middle;\n",
       "    }\n",
       "\n",
       "    .dataframe tbody tr th {\n",
       "        vertical-align: top;\n",
       "    }\n",
       "\n",
       "    .dataframe thead th {\n",
       "        text-align: right;\n",
       "    }\n",
       "</style>\n",
       "<table border=\"1\" class=\"dataframe\">\n",
       "  <thead>\n",
       "    <tr style=\"text-align: right;\">\n",
       "      <th></th>\n",
       "      <th>annual_inc</th>\n",
       "      <th>count</th>\n",
       "    </tr>\n",
       "  </thead>\n",
       "  <tbody>\n",
       "    <tr>\n",
       "      <th>24048</th>\n",
       "      <td>60000.0</td>\n",
       "      <td>34281</td>\n",
       "    </tr>\n",
       "    <tr>\n",
       "      <th>17805</th>\n",
       "      <td>50000.0</td>\n",
       "      <td>30575</td>\n",
       "    </tr>\n",
       "    <tr>\n",
       "      <th>26762</th>\n",
       "      <td>65000.0</td>\n",
       "      <td>25498</td>\n",
       "    </tr>\n",
       "    <tr>\n",
       "      <th>29378</th>\n",
       "      <td>70000.0</td>\n",
       "      <td>24121</td>\n",
       "    </tr>\n",
       "    <tr>\n",
       "      <th>11305</th>\n",
       "      <td>40000.0</td>\n",
       "      <td>23943</td>\n",
       "    </tr>\n",
       "  </tbody>\n",
       "</table>\n",
       "</div>"
      ],
      "text/plain": [
       "       annual_inc  count\n",
       "24048     60000.0  34281\n",
       "17805     50000.0  30575\n",
       "26762     65000.0  25498\n",
       "29378     70000.0  24121\n",
       "11305     40000.0  23943"
      ]
     },
     "execution_count": 25,
     "metadata": {},
     "output_type": "execute_result"
    }
   ],
   "source": [
    "df.groupby([\"annual_inc\"]).size().reset_index(name='count').sort_values(['count'], ascending=False).head()"
   ]
  },
  {
   "cell_type": "markdown",
   "metadata": {},
   "source": [
    "It appears there are some outliers for annual income and the distribution appears to be right skewed."
   ]
  },
  {
   "cell_type": "code",
   "execution_count": 26,
   "metadata": {},
   "outputs": [
    {
     "data": {
      "image/png": "[encoded data removed]",
      "text/plain": [
       "<Figure size 432x288 with 1 Axes>"
      ]
     },
     "metadata": {
      "needs_background": "light"
     },
     "output_type": "display_data"
    }
   ],
   "source": [
    "sns.distplot(df[\"dti\"], kde=False, rug=True)\n",
    "plt.show()"
   ]
  },
  {
   "cell_type": "code",
   "execution_count": 27,
   "metadata": {},
   "outputs": [
    {
     "name": "stdout",
     "output_type": "stream",
     "text": [
      "85.95312843970368\n"
     ]
    },
    {
     "data": {
      "image/png": "[encoded data removed]",
      "text/plain": [
       "<Figure size 432x288 with 1 Axes>"
      ]
     },
     "metadata": {
      "needs_background": "light"
     },
     "output_type": "display_data"
    }
   ],
   "source": [
    "thresh = 5*df_desc[\"dti\"][\"std\"]\n",
    "print(thresh)\n",
    "sns.distplot(df[abs(df[\"dti\"]-df_desc[\"dti\"][\"mean\"]) < thresh][\"dti\"], kde=False, rug=True)\n",
    "plt.show()"
   ]
  },
  {
   "cell_type": "code",
   "execution_count": 28,
   "metadata": {},
   "outputs": [
    {
     "data": {
      "text/html": [
       "<div>\n",
       "<style scoped>\n",
       "    .dataframe tbody tr th:only-of-type {\n",
       "        vertical-align: middle;\n",
       "    }\n",
       "\n",
       "    .dataframe tbody tr th {\n",
       "        vertical-align: top;\n",
       "    }\n",
       "\n",
       "    .dataframe thead th {\n",
       "        text-align: right;\n",
       "    }\n",
       "</style>\n",
       "<table border=\"1\" class=\"dataframe\">\n",
       "  <thead>\n",
       "    <tr style=\"text-align: right;\">\n",
       "      <th></th>\n",
       "      <th>dti</th>\n",
       "      <th>count</th>\n",
       "    </tr>\n",
       "  </thead>\n",
       "  <tbody>\n",
       "    <tr>\n",
       "      <th>1920</th>\n",
       "      <td>19.2</td>\n",
       "      <td>684</td>\n",
       "    </tr>\n",
       "    <tr>\n",
       "      <th>1440</th>\n",
       "      <td>14.4</td>\n",
       "      <td>674</td>\n",
       "    </tr>\n",
       "    <tr>\n",
       "      <th>1800</th>\n",
       "      <td>18.0</td>\n",
       "      <td>661</td>\n",
       "    </tr>\n",
       "    <tr>\n",
       "      <th>1320</th>\n",
       "      <td>13.2</td>\n",
       "      <td>638</td>\n",
       "    </tr>\n",
       "    <tr>\n",
       "      <th>1680</th>\n",
       "      <td>16.8</td>\n",
       "      <td>632</td>\n",
       "    </tr>\n",
       "  </tbody>\n",
       "</table>\n",
       "</div>"
      ],
      "text/plain": [
       "       dti  count\n",
       "1920  19.2    684\n",
       "1440  14.4    674\n",
       "1800  18.0    661\n",
       "1320  13.2    638\n",
       "1680  16.8    632"
      ]
     },
     "execution_count": 28,
     "metadata": {},
     "output_type": "execute_result"
    }
   ],
   "source": [
    "df.groupby([\"dti\"]).size().reset_index(name='count').sort_values(['count'], ascending=False).head()"
   ]
  },
  {
   "cell_type": "markdown",
   "metadata": {},
   "source": [
    "There appear to be some outliers for the 'debt-to-income' variable."
   ]
  },
  {
   "cell_type": "code",
   "execution_count": 29,
   "metadata": {},
   "outputs": [
    {
     "data": {
      "image/png": "[encoded data removed]",
      "text/plain": [
       "<Figure size 432x288 with 1 Axes>"
      ]
     },
     "metadata": {
      "needs_background": "light"
     },
     "output_type": "display_data"
    }
   ],
   "source": [
    "sns.distplot(df[\"revol_bal\"], kde=False, rug=True)\n",
    "plt.show()"
   ]
  },
  {
   "cell_type": "code",
   "execution_count": 30,
   "metadata": {},
   "outputs": [
    {
     "name": "stdout",
     "output_type": "stream",
     "text": [
      "112133.95947981573\n"
     ]
    },
    {
     "data": {
      "image/png": "[encoded data removed]",
      "text/plain": [
       "<Figure size 432x288 with 1 Axes>"
      ]
     },
     "metadata": {
      "needs_background": "light"
     },
     "output_type": "display_data"
    }
   ],
   "source": [
    "thresh = 5*df_desc[\"revol_bal\"][\"std\"]\n",
    "print(thresh)\n",
    "sns.distplot(df[abs(df[\"revol_bal\"]-df_desc[\"revol_bal\"][\"mean\"]) < thresh][\"revol_bal\"], kde=False, rug=True)\n",
    "plt.show()"
   ]
  },
  {
   "cell_type": "code",
   "execution_count": 31,
   "metadata": {},
   "outputs": [
    {
     "data": {
      "text/html": [
       "<div>\n",
       "<style scoped>\n",
       "    .dataframe tbody tr th:only-of-type {\n",
       "        vertical-align: middle;\n",
       "    }\n",
       "\n",
       "    .dataframe tbody tr th {\n",
       "        vertical-align: top;\n",
       "    }\n",
       "\n",
       "    .dataframe thead th {\n",
       "        text-align: right;\n",
       "    }\n",
       "</style>\n",
       "<table border=\"1\" class=\"dataframe\">\n",
       "  <thead>\n",
       "    <tr style=\"text-align: right;\">\n",
       "      <th></th>\n",
       "      <th>revol_bal</th>\n",
       "      <th>count</th>\n",
       "    </tr>\n",
       "  </thead>\n",
       "  <tbody>\n",
       "    <tr>\n",
       "      <th>0</th>\n",
       "      <td>0.0</td>\n",
       "      <td>3402</td>\n",
       "    </tr>\n",
       "    <tr>\n",
       "      <th>5235</th>\n",
       "      <td>5235.0</td>\n",
       "      <td>74</td>\n",
       "    </tr>\n",
       "    <tr>\n",
       "      <th>5466</th>\n",
       "      <td>5466.0</td>\n",
       "      <td>72</td>\n",
       "    </tr>\n",
       "    <tr>\n",
       "      <th>4479</th>\n",
       "      <td>4479.0</td>\n",
       "      <td>68</td>\n",
       "    </tr>\n",
       "    <tr>\n",
       "      <th>6969</th>\n",
       "      <td>6969.0</td>\n",
       "      <td>67</td>\n",
       "    </tr>\n",
       "  </tbody>\n",
       "</table>\n",
       "</div>"
      ],
      "text/plain": [
       "      revol_bal  count\n",
       "0           0.0   3402\n",
       "5235     5235.0     74\n",
       "5466     5466.0     72\n",
       "4479     4479.0     68\n",
       "6969     6969.0     67"
      ]
     },
     "execution_count": 31,
     "metadata": {},
     "output_type": "execute_result"
    }
   ],
   "source": [
    "df.groupby([\"revol_bal\"]).size().reset_index(name='count').sort_values(['count'], ascending=False).head()"
   ]
  },
  {
   "cell_type": "markdown",
   "metadata": {},
   "source": [
    "The appears to be some right-skew and outliers for the revolving balance variable."
   ]
  },
  {
   "cell_type": "code",
   "execution_count": 32,
   "metadata": {},
   "outputs": [
    {
     "data": {
      "image/png": "[encoded data removed]",
      "text/plain": [
       "<Figure size 432x288 with 1 Axes>"
      ]
     },
     "metadata": {
      "needs_background": "light"
     },
     "output_type": "display_data"
    }
   ],
   "source": [
    "sns.distplot(df[\"total_pymnt\"], kde=False, rug=True)\n",
    "plt.show()"
   ]
  },
  {
   "cell_type": "code",
   "execution_count": 33,
   "metadata": {},
   "outputs": [
    {
     "data": {
      "text/html": [
       "<div>\n",
       "<style scoped>\n",
       "    .dataframe tbody tr th:only-of-type {\n",
       "        vertical-align: middle;\n",
       "    }\n",
       "\n",
       "    .dataframe tbody tr th {\n",
       "        vertical-align: top;\n",
       "    }\n",
       "\n",
       "    .dataframe thead th {\n",
       "        text-align: right;\n",
       "    }\n",
       "</style>\n",
       "<table border=\"1\" class=\"dataframe\">\n",
       "  <thead>\n",
       "    <tr style=\"text-align: right;\">\n",
       "      <th></th>\n",
       "      <th>total_pymnt</th>\n",
       "      <th>count</th>\n",
       "    </tr>\n",
       "  </thead>\n",
       "  <tbody>\n",
       "    <tr>\n",
       "      <th>0</th>\n",
       "      <td>0.00</td>\n",
       "      <td>17759</td>\n",
       "    </tr>\n",
       "    <tr>\n",
       "      <th>23309</th>\n",
       "      <td>648.57</td>\n",
       "      <td>135</td>\n",
       "    </tr>\n",
       "    <tr>\n",
       "      <th>35679</th>\n",
       "      <td>938.06</td>\n",
       "      <td>134</td>\n",
       "    </tr>\n",
       "    <tr>\n",
       "      <th>22207</th>\n",
       "      <td>623.86</td>\n",
       "      <td>131</td>\n",
       "    </tr>\n",
       "    <tr>\n",
       "      <th>61829</th>\n",
       "      <td>1566.46</td>\n",
       "      <td>117</td>\n",
       "    </tr>\n",
       "  </tbody>\n",
       "</table>\n",
       "</div>"
      ],
      "text/plain": [
       "       total_pymnt  count\n",
       "0             0.00  17759\n",
       "23309       648.57    135\n",
       "35679       938.06    134\n",
       "22207       623.86    131\n",
       "61829      1566.46    117"
      ]
     },
     "execution_count": 33,
     "metadata": {},
     "output_type": "execute_result"
    }
   ],
   "source": [
    "df.groupby([\"total_pymnt\"]).size().reset_index(name='count').sort_values(['count'], ascending=False).head()"
   ]
  },
  {
   "cell_type": "markdown",
   "metadata": {},
   "source": [
    "There appears to be a large right skew for the total payment distribution."
   ]
  },
  {
   "cell_type": "markdown",
   "metadata": {},
   "source": [
    "Now we will explore our categorical variables."
   ]
  },
  {
   "cell_type": "code",
   "execution_count": 34,
   "metadata": {},
   "outputs": [
    {
     "data": {
      "text/plain": [
       " 36 months    621125\n",
       " 60 months    266254\n",
       "Name: term, dtype: int64"
      ]
     },
     "execution_count": 34,
     "metadata": {},
     "output_type": "execute_result"
    }
   ],
   "source": [
    "df[\"term\"].value_counts()"
   ]
  },
  {
   "cell_type": "markdown",
   "metadata": {},
   "source": [
    "A 36 month loan term appears to be most common, representing 70.00% of the dataset."
   ]
  },
  {
   "cell_type": "code",
   "execution_count": 35,
   "metadata": {},
   "outputs": [
    {
     "data": {
      "text/plain": [
       "B    254535\n",
       "C    245860\n",
       "A    148202\n",
       "D    139542\n",
       "E     70705\n",
       "F     23046\n",
       "G      5489\n",
       "Name: grade, dtype: int64"
      ]
     },
     "execution_count": 35,
     "metadata": {},
     "output_type": "execute_result"
    }
   ],
   "source": [
    "df[\"grade\"].value_counts()"
   ]
  },
  {
   "cell_type": "markdown",
   "metadata": {},
   "source": [
    "B grade loans are the most common, closely followed by C grade loans. The next most common grades, A and D grades, also have similar counts."
   ]
  },
  {
   "cell_type": "code",
   "execution_count": 36,
   "metadata": {},
   "outputs": [
    {
     "data": {
      "text/plain": [
       "2015-10-01    48631\n",
       "2015-07-01    45962\n",
       "2015-12-01    44342\n",
       "2014-10-01    38782\n",
       "2015-11-01    37530\n",
       "2015-08-01    35886\n",
       "2015-04-01    35427\n",
       "2015-01-01    35107\n",
       "2015-05-01    31913\n",
       "2014-07-01    29306\n",
       "2015-09-01    28641\n",
       "2015-06-01    28485\n",
       "2015-03-01    25400\n",
       "2014-11-01    25054\n",
       "2015-02-01    23770\n",
       "2014-05-01    19099\n",
       "2014-04-01    19071\n",
       "2014-08-01    18814\n",
       "2014-06-01    17179\n",
       "2014-03-01    16513\n",
       "2014-01-01    15628\n",
       "2014-02-01    15269\n",
       "2013-12-01    15020\n",
       "2013-11-01    14676\n",
       "2013-10-01    14114\n",
       "2013-09-01    12987\n",
       "2013-08-01    12674\n",
       "2013-07-01    11910\n",
       "2013-06-01    10899\n",
       "2014-09-01    10606\n",
       "              ...  \n",
       "2009-12-01      658\n",
       "2009-10-01      604\n",
       "2009-09-01      507\n",
       "2009-08-01      446\n",
       "2009-07-01      411\n",
       "2009-06-01      406\n",
       "2008-03-01      402\n",
       "2009-05-01      359\n",
       "2009-04-01      333\n",
       "2009-03-01      324\n",
       "2008-02-01      306\n",
       "2008-01-01      305\n",
       "2009-02-01      302\n",
       "2009-01-01      269\n",
       "2008-04-01      259\n",
       "2008-12-01      253\n",
       "2008-11-01      209\n",
       "2007-12-01      172\n",
       "2008-07-01      141\n",
       "2008-06-01      124\n",
       "2008-10-01      122\n",
       "2008-05-01      115\n",
       "2007-11-01      112\n",
       "2007-10-01      105\n",
       "2008-08-01      100\n",
       "2007-08-01       74\n",
       "2007-07-01       63\n",
       "2008-09-01       57\n",
       "2007-09-01       53\n",
       "2007-06-01       24\n",
       "Name: issue_d, Length: 103, dtype: int64"
      ]
     },
     "execution_count": 36,
     "metadata": {},
     "output_type": "execute_result"
    }
   ],
   "source": [
    "df[\"issue_d\"].value_counts()"
   ]
  },
  {
   "cell_type": "markdown",
   "metadata": {},
   "source": [
    "It appears that loan volumes have increased over time. We can look at this relationship below."
   ]
  },
  {
   "cell_type": "code",
   "execution_count": 37,
   "metadata": {},
   "outputs": [
    {
     "data": {
      "image/png": "[encoded data removed]",
      "text/plain": [
       "<Figure size 432x288 with 1 Axes>"
      ]
     },
     "metadata": {
      "needs_background": "light"
     },
     "output_type": "display_data"
    }
   ],
   "source": [
    "count_df = df.groupby([\"issue_d\"]).size().reset_index(name=\"count\").sort_values([\"count\"], ascending=False)\n",
    "count_df[[\"issue_d\",\"count\"]].set_index(\"issue_d\").plot(legend=False)\n",
    "plt.xlabel(\"Issue Date\")\n",
    "plt.ylabel(\"Total Loan Volume\")\n",
    "plt.show()"
   ]
  },
  {
   "cell_type": "markdown",
   "metadata": {},
   "source": [
    "Loan volumes have indeed trended up over time. Interestingly, it appears that loan volumes have gotten much more variable during and after 2015."
   ]
  },
  {
   "cell_type": "code",
   "execution_count": 38,
   "metadata": {},
   "outputs": [
    {
     "data": {
      "text/plain": [
       "Current                                                601779\n",
       "Fully Paid                                             207723\n",
       "Charged Off                                             45248\n",
       "Late (31-120 days)                                      11591\n",
       "Issued                                                   8460\n",
       "In Grace Period                                          6253\n",
       "Late (16-30 days)                                        2357\n",
       "Does not meet the credit policy. Status:Fully Paid       1988\n",
       "Default                                                  1219\n",
       "Does not meet the credit policy. Status:Charged Off       761\n",
       "Name: loan_status, dtype: int64"
      ]
     },
     "execution_count": 38,
     "metadata": {},
     "output_type": "execute_result"
    }
   ],
   "source": [
    "df[\"loan_status\"].value_counts()"
   ]
  },
  {
   "cell_type": "markdown",
   "metadata": {},
   "source": [
    "The most common loan status is 'Current' followed by 'Fully Paid'. The other categories aside from 'Issued' represent loans which are at risk of default, are in default, or are charged off. 7.82% of all loans are in these categories."
   ]
  },
  {
   "cell_type": "code",
   "execution_count": 39,
   "metadata": {},
   "outputs": [
    {
     "data": {
      "text/plain": [
       "grade\n",
       "A    96.490601\n",
       "B    93.614238\n",
       "C    91.048971\n",
       "D    87.431741\n",
       "E    84.844070\n",
       "F    79.471492\n",
       "G    73.947896\n",
       "dtype: float64"
      ]
     },
     "execution_count": 39,
     "metadata": {},
     "output_type": "execute_result"
    }
   ],
   "source": [
    "loan_status_agg = (df.groupby([\"loan_status\", \"grade\"]).size()/df.groupby([\"grade\"]).size())\n",
    "(loan_status_agg[\"Current\"]+loan_status_agg[\"Fully Paid\"])*100"
   ]
  },
  {
   "cell_type": "markdown",
   "metadata": {},
   "source": [
    "There appears to be a correlation between grades and associated loan status- 96.491% of A grade loans are \"Current\" or \"Fully Paid\" while only 73.948% of G grade loans are \"Current\" or \"Fully Paid\"."
   ]
  },
  {
   "cell_type": "code",
   "execution_count": 40,
   "metadata": {},
   "outputs": [
    {
     "data": {
      "text/plain": [
       "grade  year\n",
       "A      2007    0.129353\n",
       "       2008    0.132888\n",
       "       2009    0.227798\n",
       "       2010    0.225732\n",
       "       2011    0.264905\n",
       "dtype: float64"
      ]
     },
     "execution_count": 40,
     "metadata": {},
     "output_type": "execute_result"
    }
   ],
   "source": [
    "df[\"year\"] = df[\"issue_d\"].apply(lambda x: x.year)\n",
    "df_grade_agg = df.groupby([\"grade\", \"year\"]).size()/df.groupby([\"year\"]).size()\n",
    "df_grade_agg.head()"
   ]
  },
  {
   "cell_type": "code",
   "execution_count": 41,
   "metadata": {},
   "outputs": [
    {
     "data": {
      "text/plain": [
       "year  grade\n",
       "2007  A        0.129353\n",
       "      B        0.162521\n",
       "      C        0.233831\n",
       "      D        0.164179\n",
       "      E        0.165837\n",
       "dtype: float64"
      ]
     },
     "execution_count": 41,
     "metadata": {},
     "output_type": "execute_result"
    }
   ],
   "source": [
    "df_year_agg = df.groupby([\"year\", \"grade\"]).size()/df.groupby([\"year\"]).size()\n",
    "df_year_agg.head()"
   ]
  },
  {
   "cell_type": "code",
   "execution_count": 42,
   "metadata": {},
   "outputs": [
    {
     "data": {
      "image/png": "[encoded data removed]",
      "text/plain": [
       "<Figure size 432x288 with 1 Axes>"
      ]
     },
     "metadata": {
      "needs_background": "light"
     },
     "output_type": "display_data"
    }
   ],
   "source": [
    "df_grade_agg.unstack(level=0).plot(kind='bar', subplots=False)\n",
    "plt.show()"
   ]
  },
  {
   "cell_type": "code",
   "execution_count": 43,
   "metadata": {},
   "outputs": [
    {
     "data": {
      "image/png": "[encoded data removed]",
      "text/plain": [
       "<Figure size 432x288 with 1 Axes>"
      ]
     },
     "metadata": {
      "needs_background": "light"
     },
     "output_type": "display_data"
    }
   ],
   "source": [
    "df_year_agg.unstack(level=0).plot(kind='bar', subplots=False)\n",
    "plt.show()"
   ]
  },
  {
   "cell_type": "markdown",
   "metadata": {},
   "source": [
    "Some interesting trends appear in the data:\n",
    "1. We see that grade A loans peaked in popularity around 2011 (this may be due to tighter standards / more limited risk appetites after the financial crisis.)\n",
    "2. Grade B loans peaked in popularity around 2012.\n",
    "3. Grade C loans are now the most popular.\n",
    "4. Grade F and G loans were more popular in 2007 than any time after."
   ]
  },
  {
   "cell_type": "markdown",
   "metadata": {},
   "source": [
    "### Step 3 - Discussion of Outliers"
   ]
  },
  {
   "cell_type": "markdown",
   "metadata": {},
   "source": [
    "Based on the above EDA there are apparent outliers in the following columns:\n",
    "\n",
    "1. Annual Income\n",
    "2. Debt to Income\n",
    "3. Revolving Balance\n",
    "\n",
    "We can initially quantify outliers using a 4 standard deviation cutoff from the mean, and will check for the presence of outliers in other columns."
   ]
  },
  {
   "cell_type": "code",
   "execution_count": 44,
   "metadata": {},
   "outputs": [
    {
     "data": {
      "text/plain": [
       "0"
      ]
     },
     "execution_count": 44,
     "metadata": {},
     "output_type": "execute_result"
    }
   ],
   "source": [
    "thresh1 = 4*df_desc[\"loan_amnt\"][\"std\"]\n",
    "len(df[abs(df[\"loan_amnt\"]-df_desc[\"loan_amnt\"][\"mean\"]) >= thresh1])"
   ]
  },
  {
   "cell_type": "code",
   "execution_count": 45,
   "metadata": {},
   "outputs": [
    {
     "data": {
      "text/plain": [
       "0"
      ]
     },
     "execution_count": 45,
     "metadata": {},
     "output_type": "execute_result"
    }
   ],
   "source": [
    "thresh2 = 4*df_desc[\"funded_amnt\"][\"std\"]\n",
    "len(df[abs(df[\"funded_amnt\"]-df_desc[\"funded_amnt\"][\"mean\"]) >= thresh2])"
   ]
  },
  {
   "cell_type": "code",
   "execution_count": 46,
   "metadata": {},
   "outputs": [
    {
     "data": {
      "text/plain": [
       "0"
      ]
     },
     "execution_count": 46,
     "metadata": {},
     "output_type": "execute_result"
    }
   ],
   "source": [
    "thresh3 = 4*df_desc[\"int_rate\"][\"std\"]\n",
    "len(df[abs(df[\"int_rate\"]-df_desc[\"int_rate\"][\"mean\"]) >= thresh3])"
   ]
  },
  {
   "cell_type": "code",
   "execution_count": 47,
   "metadata": {},
   "outputs": [
    {
     "data": {
      "text/plain": [
       "3641"
      ]
     },
     "execution_count": 47,
     "metadata": {},
     "output_type": "execute_result"
    }
   ],
   "source": [
    "thresh4 = 4*df_desc[\"annual_inc\"][\"std\"]\n",
    "len(df[abs(df[\"annual_inc\"]-df_desc[\"annual_inc\"][\"mean\"]) >= thresh4])"
   ]
  },
  {
   "cell_type": "code",
   "execution_count": 48,
   "metadata": {},
   "outputs": [
    {
     "data": {
      "text/plain": [
       "13"
      ]
     },
     "execution_count": 48,
     "metadata": {},
     "output_type": "execute_result"
    }
   ],
   "source": [
    "thresh5 = 4*df_desc[\"dti\"][\"std\"]\n",
    "len(df[abs(df[\"dti\"]-df_desc[\"dti\"][\"mean\"]) >= thresh5])"
   ]
  },
  {
   "cell_type": "code",
   "execution_count": 49,
   "metadata": {},
   "outputs": [
    {
     "data": {
      "text/plain": [
       "6893"
      ]
     },
     "execution_count": 49,
     "metadata": {},
     "output_type": "execute_result"
    }
   ],
   "source": [
    "thresh6 = 4*df_desc[\"revol_bal\"][\"std\"]\n",
    "len(df[abs(df[\"revol_bal\"]-df_desc[\"revol_bal\"][\"mean\"]) >= thresh6])"
   ]
  },
  {
   "cell_type": "code",
   "execution_count": 50,
   "metadata": {},
   "outputs": [
    {
     "data": {
      "text/plain": [
       "5526"
      ]
     },
     "execution_count": 50,
     "metadata": {},
     "output_type": "execute_result"
    }
   ],
   "source": [
    "thresh7 = 4*df_desc[\"total_pymnt\"][\"std\"]\n",
    "len(df[abs(df[\"total_pymnt\"]-df_desc[\"total_pymnt\"][\"mean\"]) >= thresh7])"
   ]
  },
  {
   "cell_type": "markdown",
   "metadata": {},
   "source": [
    "Based on this rule, total payments appears to have outlier values as well."
   ]
  },
  {
   "cell_type": "code",
   "execution_count": 51,
   "metadata": {},
   "outputs": [
    {
     "data": {
      "text/plain": [
       "15103"
      ]
     },
     "execution_count": 51,
     "metadata": {},
     "output_type": "execute_result"
    }
   ],
   "source": [
    "len(df[(abs(df[\"annual_inc\"]-df_desc[\"annual_inc\"][\"mean\"] >= thresh4)) | (abs(df[\"dti\"]-df_desc[\"dti\"][\"mean\"] >= thresh5)) | (abs(df[\"revol_bal\"]-df_desc[\"revol_bal\"][\"mean\"]) >= thresh6) | (abs(df[\"total_pymnt\"]-df_desc[\"total_pymnt\"][\"mean\"]) >= thresh7)])"
   ]
  },
  {
   "cell_type": "markdown",
   "metadata": {},
   "source": [
    "Given a somewhat crude rule of [abs(value-mean) > 4*sd] representing an outlier for a given numeric attribute, we can identify 15,103 records corresponding to this rule when when considering all numeric attributes.\n",
    "If there was time to further dive into working on outlier detection we could look at techniques such as one-class SVM or isolation forests. We will not exclude the idenfitied outliers for now and will deal with them later during the modeling phase."
   ]
  },
  {
   "cell_type": "markdown",
   "metadata": {},
   "source": [
    "### Step 4 - Summary of Findings"
   ]
  },
  {
   "cell_type": "markdown",
   "metadata": {},
   "source": [
    "Note: The two(+) data visualizations and summary statistics to support the findings below can be found above."
   ]
  },
  {
   "cell_type": "markdown",
   "metadata": {},
   "source": [
    "Based on our exploratory data analysis, there are several important findings:\n",
    "    \n",
    "1. Four records with NULL or otherwise blank values were found.\n",
    "2. Loan amount and funding amount appear to be highly correlated.\n",
    "3. Loan amount, funding amount, annual incoming, revolving balance, and total payments all appear to be moderately-highly correlated.\n",
    "4. Approximately 15,103 outliers were found in our numeric data using a 4 standard deviation cutoff.\n",
    "5. Total loan volumes have trended up over time.\n",
    "6. Loans that are in good standing make up the bulk of the loan portfolio (92.18%).\n",
    "7. Higher grade loans appear to have better payback characteristics.\n",
    "8. There appear to be time trends in the distribution of loan grades, potentially due to lender demand or regulatory requirements."
   ]
  },
  {
   "cell_type": "markdown",
   "metadata": {},
   "source": [
    "# 2. Business Analysis"
   ]
  },
  {
   "cell_type": "markdown",
   "metadata": {},
   "source": [
    "We will subset to include only loans with 36 month terms."
   ]
  },
  {
   "cell_type": "code",
   "execution_count": 52,
   "metadata": {},
   "outputs": [],
   "source": [
    "ba_df = copy.deepcopy(df)\n",
    "ba_df = ba_df[ba_df.term == \" 36 months\"]"
   ]
  },
  {
   "cell_type": "code",
   "execution_count": 53,
   "metadata": {},
   "outputs": [
    {
     "data": {
      "text/html": [
       "<div>\n",
       "<style scoped>\n",
       "    .dataframe tbody tr th:only-of-type {\n",
       "        vertical-align: middle;\n",
       "    }\n",
       "\n",
       "    .dataframe tbody tr th {\n",
       "        vertical-align: top;\n",
       "    }\n",
       "\n",
       "    .dataframe thead th {\n",
       "        text-align: right;\n",
       "    }\n",
       "</style>\n",
       "<table border=\"1\" class=\"dataframe\">\n",
       "  <thead>\n",
       "    <tr style=\"text-align: right;\">\n",
       "      <th></th>\n",
       "      <th>loan_amnt</th>\n",
       "      <th>funded_amnt</th>\n",
       "      <th>term</th>\n",
       "      <th>int_rate</th>\n",
       "      <th>grade</th>\n",
       "      <th>annual_inc</th>\n",
       "      <th>issue_d</th>\n",
       "      <th>loan_status</th>\n",
       "      <th>dti</th>\n",
       "      <th>revol_bal</th>\n",
       "      <th>total_pymnt</th>\n",
       "      <th>year</th>\n",
       "    </tr>\n",
       "  </thead>\n",
       "  <tbody>\n",
       "    <tr>\n",
       "      <th>0</th>\n",
       "      <td>5000.0</td>\n",
       "      <td>5000.0</td>\n",
       "      <td>36 months</td>\n",
       "      <td>10.65</td>\n",
       "      <td>B</td>\n",
       "      <td>24000.0</td>\n",
       "      <td>2011-12-01</td>\n",
       "      <td>Fully Paid</td>\n",
       "      <td>27.65</td>\n",
       "      <td>13648.0</td>\n",
       "      <td>5861.071414</td>\n",
       "      <td>2011</td>\n",
       "    </tr>\n",
       "    <tr>\n",
       "      <th>2</th>\n",
       "      <td>2400.0</td>\n",
       "      <td>2400.0</td>\n",
       "      <td>36 months</td>\n",
       "      <td>15.96</td>\n",
       "      <td>C</td>\n",
       "      <td>12252.0</td>\n",
       "      <td>2011-12-01</td>\n",
       "      <td>Fully Paid</td>\n",
       "      <td>8.72</td>\n",
       "      <td>2956.0</td>\n",
       "      <td>3003.653644</td>\n",
       "      <td>2011</td>\n",
       "    </tr>\n",
       "    <tr>\n",
       "      <th>3</th>\n",
       "      <td>10000.0</td>\n",
       "      <td>10000.0</td>\n",
       "      <td>36 months</td>\n",
       "      <td>13.49</td>\n",
       "      <td>C</td>\n",
       "      <td>49200.0</td>\n",
       "      <td>2011-12-01</td>\n",
       "      <td>Fully Paid</td>\n",
       "      <td>20.00</td>\n",
       "      <td>5598.0</td>\n",
       "      <td>12226.302212</td>\n",
       "      <td>2011</td>\n",
       "    </tr>\n",
       "    <tr>\n",
       "      <th>5</th>\n",
       "      <td>5000.0</td>\n",
       "      <td>5000.0</td>\n",
       "      <td>36 months</td>\n",
       "      <td>7.90</td>\n",
       "      <td>A</td>\n",
       "      <td>36000.0</td>\n",
       "      <td>2011-12-01</td>\n",
       "      <td>Fully Paid</td>\n",
       "      <td>11.20</td>\n",
       "      <td>7963.0</td>\n",
       "      <td>5631.377753</td>\n",
       "      <td>2011</td>\n",
       "    </tr>\n",
       "    <tr>\n",
       "      <th>7</th>\n",
       "      <td>3000.0</td>\n",
       "      <td>3000.0</td>\n",
       "      <td>36 months</td>\n",
       "      <td>18.64</td>\n",
       "      <td>E</td>\n",
       "      <td>48000.0</td>\n",
       "      <td>2011-12-01</td>\n",
       "      <td>Fully Paid</td>\n",
       "      <td>5.35</td>\n",
       "      <td>8221.0</td>\n",
       "      <td>3938.144334</td>\n",
       "      <td>2011</td>\n",
       "    </tr>\n",
       "  </tbody>\n",
       "</table>\n",
       "</div>"
      ],
      "text/plain": [
       "   loan_amnt  funded_amnt        term  int_rate grade  annual_inc    issue_d  \\\n",
       "0     5000.0       5000.0   36 months     10.65     B     24000.0 2011-12-01   \n",
       "2     2400.0       2400.0   36 months     15.96     C     12252.0 2011-12-01   \n",
       "3    10000.0      10000.0   36 months     13.49     C     49200.0 2011-12-01   \n",
       "5     5000.0       5000.0   36 months      7.90     A     36000.0 2011-12-01   \n",
       "7     3000.0       3000.0   36 months     18.64     E     48000.0 2011-12-01   \n",
       "\n",
       "  loan_status    dti  revol_bal   total_pymnt  year  \n",
       "0  Fully Paid  27.65    13648.0   5861.071414  2011  \n",
       "2  Fully Paid   8.72     2956.0   3003.653644  2011  \n",
       "3  Fully Paid  20.00     5598.0  12226.302212  2011  \n",
       "5  Fully Paid  11.20     7963.0   5631.377753  2011  \n",
       "7  Fully Paid   5.35     8221.0   3938.144334  2011  "
      ]
     },
     "execution_count": 53,
     "metadata": {},
     "output_type": "execute_result"
    }
   ],
   "source": [
    "ba_df.head()"
   ]
  },
  {
   "cell_type": "code",
   "execution_count": 54,
   "metadata": {},
   "outputs": [
    {
     "data": {
      "text/plain": [
       "(621125, 12)"
      ]
     },
     "execution_count": 54,
     "metadata": {},
     "output_type": "execute_result"
    }
   ],
   "source": [
    "ba_df.shape"
   ]
  },
  {
   "cell_type": "markdown",
   "metadata": {},
   "source": [
    "Now we will exclude loans with less than 36 months of data. We can utilize a date difference from the maximum date (12/2015) to the loan issue date."
   ]
  },
  {
   "cell_type": "code",
   "execution_count": 55,
   "metadata": {},
   "outputs": [
    {
     "name": "stdout",
     "output_type": "stream",
     "text": [
      "2015-12-01 00:00:00\n"
     ]
    }
   ],
   "source": [
    "end_date = max(ba_df[\"issue_d\"])\n",
    "print(end_date)"
   ]
  },
  {
   "cell_type": "code",
   "execution_count": 56,
   "metadata": {},
   "outputs": [],
   "source": [
    "ba_df[\"months_diff\"] = ((end_date - ba_df[\"issue_d\"])/np.timedelta64(1, 'M')).astype(int)"
   ]
  },
  {
   "cell_type": "code",
   "execution_count": 57,
   "metadata": {},
   "outputs": [
    {
     "data": {
      "text/html": [
       "<div>\n",
       "<style scoped>\n",
       "    .dataframe tbody tr th:only-of-type {\n",
       "        vertical-align: middle;\n",
       "    }\n",
       "\n",
       "    .dataframe tbody tr th {\n",
       "        vertical-align: top;\n",
       "    }\n",
       "\n",
       "    .dataframe thead th {\n",
       "        text-align: right;\n",
       "    }\n",
       "</style>\n",
       "<table border=\"1\" class=\"dataframe\">\n",
       "  <thead>\n",
       "    <tr style=\"text-align: right;\">\n",
       "      <th></th>\n",
       "      <th>loan_amnt</th>\n",
       "      <th>funded_amnt</th>\n",
       "      <th>term</th>\n",
       "      <th>int_rate</th>\n",
       "      <th>grade</th>\n",
       "      <th>annual_inc</th>\n",
       "      <th>issue_d</th>\n",
       "      <th>loan_status</th>\n",
       "      <th>dti</th>\n",
       "      <th>revol_bal</th>\n",
       "      <th>total_pymnt</th>\n",
       "      <th>year</th>\n",
       "      <th>months_diff</th>\n",
       "    </tr>\n",
       "  </thead>\n",
       "  <tbody>\n",
       "    <tr>\n",
       "      <th>0</th>\n",
       "      <td>5000.0</td>\n",
       "      <td>5000.0</td>\n",
       "      <td>36 months</td>\n",
       "      <td>10.65</td>\n",
       "      <td>B</td>\n",
       "      <td>24000.0</td>\n",
       "      <td>2011-12-01</td>\n",
       "      <td>Fully Paid</td>\n",
       "      <td>27.65</td>\n",
       "      <td>13648.0</td>\n",
       "      <td>5861.071414</td>\n",
       "      <td>2011</td>\n",
       "      <td>48</td>\n",
       "    </tr>\n",
       "    <tr>\n",
       "      <th>2</th>\n",
       "      <td>2400.0</td>\n",
       "      <td>2400.0</td>\n",
       "      <td>36 months</td>\n",
       "      <td>15.96</td>\n",
       "      <td>C</td>\n",
       "      <td>12252.0</td>\n",
       "      <td>2011-12-01</td>\n",
       "      <td>Fully Paid</td>\n",
       "      <td>8.72</td>\n",
       "      <td>2956.0</td>\n",
       "      <td>3003.653644</td>\n",
       "      <td>2011</td>\n",
       "      <td>48</td>\n",
       "    </tr>\n",
       "    <tr>\n",
       "      <th>3</th>\n",
       "      <td>10000.0</td>\n",
       "      <td>10000.0</td>\n",
       "      <td>36 months</td>\n",
       "      <td>13.49</td>\n",
       "      <td>C</td>\n",
       "      <td>49200.0</td>\n",
       "      <td>2011-12-01</td>\n",
       "      <td>Fully Paid</td>\n",
       "      <td>20.00</td>\n",
       "      <td>5598.0</td>\n",
       "      <td>12226.302212</td>\n",
       "      <td>2011</td>\n",
       "      <td>48</td>\n",
       "    </tr>\n",
       "    <tr>\n",
       "      <th>5</th>\n",
       "      <td>5000.0</td>\n",
       "      <td>5000.0</td>\n",
       "      <td>36 months</td>\n",
       "      <td>7.90</td>\n",
       "      <td>A</td>\n",
       "      <td>36000.0</td>\n",
       "      <td>2011-12-01</td>\n",
       "      <td>Fully Paid</td>\n",
       "      <td>11.20</td>\n",
       "      <td>7963.0</td>\n",
       "      <td>5631.377753</td>\n",
       "      <td>2011</td>\n",
       "      <td>48</td>\n",
       "    </tr>\n",
       "    <tr>\n",
       "      <th>7</th>\n",
       "      <td>3000.0</td>\n",
       "      <td>3000.0</td>\n",
       "      <td>36 months</td>\n",
       "      <td>18.64</td>\n",
       "      <td>E</td>\n",
       "      <td>48000.0</td>\n",
       "      <td>2011-12-01</td>\n",
       "      <td>Fully Paid</td>\n",
       "      <td>5.35</td>\n",
       "      <td>8221.0</td>\n",
       "      <td>3938.144334</td>\n",
       "      <td>2011</td>\n",
       "      <td>48</td>\n",
       "    </tr>\n",
       "  </tbody>\n",
       "</table>\n",
       "</div>"
      ],
      "text/plain": [
       "   loan_amnt  funded_amnt        term  int_rate grade  annual_inc    issue_d  \\\n",
       "0     5000.0       5000.0   36 months     10.65     B     24000.0 2011-12-01   \n",
       "2     2400.0       2400.0   36 months     15.96     C     12252.0 2011-12-01   \n",
       "3    10000.0      10000.0   36 months     13.49     C     49200.0 2011-12-01   \n",
       "5     5000.0       5000.0   36 months      7.90     A     36000.0 2011-12-01   \n",
       "7     3000.0       3000.0   36 months     18.64     E     48000.0 2011-12-01   \n",
       "\n",
       "  loan_status    dti  revol_bal   total_pymnt  year  months_diff  \n",
       "0  Fully Paid  27.65    13648.0   5861.071414  2011           48  \n",
       "2  Fully Paid   8.72     2956.0   3003.653644  2011           48  \n",
       "3  Fully Paid  20.00     5598.0  12226.302212  2011           48  \n",
       "5  Fully Paid  11.20     7963.0   5631.377753  2011           48  \n",
       "7  Fully Paid   5.35     8221.0   3938.144334  2011           48  "
      ]
     },
     "execution_count": 57,
     "metadata": {},
     "output_type": "execute_result"
    }
   ],
   "source": [
    "ba_df.head()"
   ]
  },
  {
   "cell_type": "code",
   "execution_count": 58,
   "metadata": {},
   "outputs": [],
   "source": [
    "ba_df_valid = copy.deepcopy(ba_df[ba_df[\"months_diff\"] >= 36])"
   ]
  },
  {
   "cell_type": "code",
   "execution_count": 59,
   "metadata": {},
   "outputs": [
    {
     "data": {
      "text/html": [
       "<div>\n",
       "<style scoped>\n",
       "    .dataframe tbody tr th:only-of-type {\n",
       "        vertical-align: middle;\n",
       "    }\n",
       "\n",
       "    .dataframe tbody tr th {\n",
       "        vertical-align: top;\n",
       "    }\n",
       "\n",
       "    .dataframe thead th {\n",
       "        text-align: right;\n",
       "    }\n",
       "</style>\n",
       "<table border=\"1\" class=\"dataframe\">\n",
       "  <thead>\n",
       "    <tr style=\"text-align: right;\">\n",
       "      <th></th>\n",
       "      <th>loan_amnt</th>\n",
       "      <th>funded_amnt</th>\n",
       "      <th>term</th>\n",
       "      <th>int_rate</th>\n",
       "      <th>grade</th>\n",
       "      <th>annual_inc</th>\n",
       "      <th>issue_d</th>\n",
       "      <th>loan_status</th>\n",
       "      <th>dti</th>\n",
       "      <th>revol_bal</th>\n",
       "      <th>total_pymnt</th>\n",
       "      <th>year</th>\n",
       "      <th>months_diff</th>\n",
       "    </tr>\n",
       "  </thead>\n",
       "  <tbody>\n",
       "    <tr>\n",
       "      <th>0</th>\n",
       "      <td>5000.0</td>\n",
       "      <td>5000.0</td>\n",
       "      <td>36 months</td>\n",
       "      <td>10.65</td>\n",
       "      <td>B</td>\n",
       "      <td>24000.0</td>\n",
       "      <td>2011-12-01</td>\n",
       "      <td>Fully Paid</td>\n",
       "      <td>27.65</td>\n",
       "      <td>13648.0</td>\n",
       "      <td>5861.071414</td>\n",
       "      <td>2011</td>\n",
       "      <td>48</td>\n",
       "    </tr>\n",
       "    <tr>\n",
       "      <th>2</th>\n",
       "      <td>2400.0</td>\n",
       "      <td>2400.0</td>\n",
       "      <td>36 months</td>\n",
       "      <td>15.96</td>\n",
       "      <td>C</td>\n",
       "      <td>12252.0</td>\n",
       "      <td>2011-12-01</td>\n",
       "      <td>Fully Paid</td>\n",
       "      <td>8.72</td>\n",
       "      <td>2956.0</td>\n",
       "      <td>3003.653644</td>\n",
       "      <td>2011</td>\n",
       "      <td>48</td>\n",
       "    </tr>\n",
       "    <tr>\n",
       "      <th>3</th>\n",
       "      <td>10000.0</td>\n",
       "      <td>10000.0</td>\n",
       "      <td>36 months</td>\n",
       "      <td>13.49</td>\n",
       "      <td>C</td>\n",
       "      <td>49200.0</td>\n",
       "      <td>2011-12-01</td>\n",
       "      <td>Fully Paid</td>\n",
       "      <td>20.00</td>\n",
       "      <td>5598.0</td>\n",
       "      <td>12226.302212</td>\n",
       "      <td>2011</td>\n",
       "      <td>48</td>\n",
       "    </tr>\n",
       "    <tr>\n",
       "      <th>5</th>\n",
       "      <td>5000.0</td>\n",
       "      <td>5000.0</td>\n",
       "      <td>36 months</td>\n",
       "      <td>7.90</td>\n",
       "      <td>A</td>\n",
       "      <td>36000.0</td>\n",
       "      <td>2011-12-01</td>\n",
       "      <td>Fully Paid</td>\n",
       "      <td>11.20</td>\n",
       "      <td>7963.0</td>\n",
       "      <td>5631.377753</td>\n",
       "      <td>2011</td>\n",
       "      <td>48</td>\n",
       "    </tr>\n",
       "    <tr>\n",
       "      <th>7</th>\n",
       "      <td>3000.0</td>\n",
       "      <td>3000.0</td>\n",
       "      <td>36 months</td>\n",
       "      <td>18.64</td>\n",
       "      <td>E</td>\n",
       "      <td>48000.0</td>\n",
       "      <td>2011-12-01</td>\n",
       "      <td>Fully Paid</td>\n",
       "      <td>5.35</td>\n",
       "      <td>8221.0</td>\n",
       "      <td>3938.144334</td>\n",
       "      <td>2011</td>\n",
       "      <td>48</td>\n",
       "    </tr>\n",
       "  </tbody>\n",
       "</table>\n",
       "</div>"
      ],
      "text/plain": [
       "   loan_amnt  funded_amnt        term  int_rate grade  annual_inc    issue_d  \\\n",
       "0     5000.0       5000.0   36 months     10.65     B     24000.0 2011-12-01   \n",
       "2     2400.0       2400.0   36 months     15.96     C     12252.0 2011-12-01   \n",
       "3    10000.0      10000.0   36 months     13.49     C     49200.0 2011-12-01   \n",
       "5     5000.0       5000.0   36 months      7.90     A     36000.0 2011-12-01   \n",
       "7     3000.0       3000.0   36 months     18.64     E     48000.0 2011-12-01   \n",
       "\n",
       "  loan_status    dti  revol_bal   total_pymnt  year  months_diff  \n",
       "0  Fully Paid  27.65    13648.0   5861.071414  2011           48  \n",
       "2  Fully Paid   8.72     2956.0   3003.653644  2011           48  \n",
       "3  Fully Paid  20.00     5598.0  12226.302212  2011           48  \n",
       "5  Fully Paid  11.20     7963.0   5631.377753  2011           48  \n",
       "7  Fully Paid   5.35     8221.0   3938.144334  2011           48  "
      ]
     },
     "execution_count": 59,
     "metadata": {},
     "output_type": "execute_result"
    }
   ],
   "source": [
    "ba_df_valid.head()"
   ]
  },
  {
   "cell_type": "code",
   "execution_count": 60,
   "metadata": {},
   "outputs": [
    {
     "data": {
      "text/plain": [
       "(70200, 13)"
      ]
     },
     "execution_count": 60,
     "metadata": {},
     "output_type": "execute_result"
    }
   ],
   "source": [
    "ba_df_valid.shape"
   ]
  },
  {
   "cell_type": "markdown",
   "metadata": {},
   "source": [
    "### Question 1"
   ]
  },
  {
   "cell_type": "code",
   "execution_count": 61,
   "metadata": {},
   "outputs": [],
   "source": [
    "def default_check(row):\n",
    "    if row[\"loan_status\"] == \"Fully Paid\":\n",
    "        return 0 \n",
    "    else:\n",
    "        return 1\n",
    "\n",
    "ba_df_valid[\"default_flag\"] = ba_df_valid.apply(default_check, axis=1)"
   ]
  },
  {
   "cell_type": "code",
   "execution_count": 62,
   "metadata": {},
   "outputs": [
    {
     "data": {
      "text/plain": [
       "0.8432336182336182"
      ]
     },
     "execution_count": 62,
     "metadata": {},
     "output_type": "execute_result"
    }
   ],
   "source": [
    "len(ba_df_valid[ba_df_valid[\"default_flag\"] == 0]) / len(ba_df_valid)"
   ]
  },
  {
   "cell_type": "markdown",
   "metadata": {},
   "source": [
    "84.323% of matured 36-month loans have been fully paid."
   ]
  },
  {
   "cell_type": "markdown",
   "metadata": {},
   "source": [
    "### Question 2"
   ]
  },
  {
   "cell_type": "code",
   "execution_count": 63,
   "metadata": {},
   "outputs": [],
   "source": [
    "ba_df_valid[\"year\"] = ba_df[\"issue_d\"].apply(lambda x: x.year)\n",
    "ba_df_valid[\"month\"] = ba_df[\"issue_d\"].apply(lambda x: x.month)\n",
    "\n",
    "# Setting model_df here to avoid duplicating transformations.\n",
    "model_df = copy.deepcopy(ba_df_valid.drop([\"months_diff\", \"loan_status\", \"term\"], axis=1))"
   ]
  },
  {
   "cell_type": "code",
   "execution_count": 64,
   "metadata": {},
   "outputs": [],
   "source": [
    "grp_default_df = ba_df_valid[ba_df_valid[\"default_flag\"] == 1].groupby([\"year\", \"grade\"]).size()"
   ]
  },
  {
   "cell_type": "code",
   "execution_count": 65,
   "metadata": {},
   "outputs": [],
   "source": [
    "grp_df = ba_df_valid.groupby([\"year\", \"grade\"]).size()"
   ]
  },
  {
   "cell_type": "code",
   "execution_count": 66,
   "metadata": {},
   "outputs": [
    {
     "data": {
      "text/plain": [
       "year  grade\n",
       "2007  A        0.282051\n",
       "      B        0.459184\n",
       "      C        0.567376\n",
       "      D        0.777778\n",
       "      E        0.910000\n",
       "      F        0.903846\n",
       "      G        1.000000\n",
       "2008  A        0.125786\n",
       "      B        0.271044\n",
       "      C        0.379310\n",
       "      D        0.599045\n",
       "      E        0.778947\n",
       "      F        0.900901\n",
       "      G        0.976744\n",
       "2009  A        0.086451\n",
       "      B        0.163322\n",
       "      C        0.245549\n",
       "      D        0.334149\n",
       "      E        0.399351\n",
       "      F        0.495238\n",
       "      G        0.727273\n",
       "2010  A        0.053370\n",
       "      B        0.134403\n",
       "      C        0.224155\n",
       "      D        0.294493\n",
       "      E        0.348214\n",
       "      F        0.505495\n",
       "      G        0.647059\n",
       "2011  A        0.063990\n",
       "      B        0.105676\n",
       "      C        0.155243\n",
       "      D        0.180809\n",
       "      E        0.205882\n",
       "      F        0.240741\n",
       "      G        0.400000\n",
       "2012  A        0.074203\n",
       "      B        0.129363\n",
       "      C        0.178265\n",
       "      D        0.215827\n",
       "      E        0.213333\n",
       "      F        0.197674\n",
       "      G        0.181818\n",
       "dtype: float64"
      ]
     },
     "metadata": {},
     "output_type": "display_data"
    }
   ],
   "source": [
    "grp_delta_df = grp_default_df / grp_df\n",
    "display(grp_delta_df)"
   ]
  },
  {
   "cell_type": "code",
   "execution_count": 67,
   "metadata": {},
   "outputs": [
    {
     "data": {
      "text/plain": [
       "(2007, 'G')"
      ]
     },
     "execution_count": 67,
     "metadata": {},
     "output_type": "execute_result"
    }
   ],
   "source": [
    "grp_delta_df.idxmax()"
   ]
  },
  {
   "cell_type": "markdown",
   "metadata": {},
   "source": [
    "Grade 'G' loans issued in 2007 have the highest rate of default."
   ]
  },
  {
   "cell_type": "markdown",
   "metadata": {},
   "source": [
    "### Question 3"
   ]
  },
  {
   "cell_type": "code",
   "execution_count": 68,
   "metadata": {},
   "outputs": [],
   "source": [
    "ba_df_valid[\"rate_of_return\"] = (((ba_df_valid[\"total_pymnt\"]/ba_df_valid[\"funded_amnt\"])**(1/3)) - 1)"
   ]
  },
  {
   "cell_type": "code",
   "execution_count": 69,
   "metadata": {},
   "outputs": [
    {
     "data": {
      "text/plain": [
       "year  grade\n",
       "2007  A        0.027138\n",
       "      B       -0.001888\n",
       "      C       -0.008031\n",
       "      D       -0.014353\n",
       "      E       -0.015099\n",
       "      F       -0.079863\n",
       "      G       -0.044102\n",
       "2008  A        0.023445\n",
       "      B       -0.000428\n",
       "      C       -0.004508\n",
       "      D       -0.018365\n",
       "      E       -0.003337\n",
       "      F       -0.045138\n",
       "      G       -0.007913\n",
       "2009  A        0.021337\n",
       "      B        0.014358\n",
       "      C        0.011975\n",
       "      D        0.013982\n",
       "      E       -0.000270\n",
       "      F        0.002615\n",
       "      G        0.002985\n",
       "2010  A        0.021611\n",
       "      B        0.021892\n",
       "      C        0.022227\n",
       "      D        0.012545\n",
       "      E        0.013981\n",
       "      F       -0.007814\n",
       "      G       -0.007685\n",
       "2011  A        0.014910\n",
       "      B        0.021848\n",
       "      C        0.017563\n",
       "      D        0.021422\n",
       "      E        0.024065\n",
       "      F        0.022267\n",
       "      G       -0.020399\n",
       "2012  A        0.014938\n",
       "      B        0.022425\n",
       "      C        0.021012\n",
       "      D        0.022788\n",
       "      E        0.033121\n",
       "      F        0.031940\n",
       "      G        0.038493\n",
       "Name: rate_of_return, dtype: float64"
      ]
     },
     "metadata": {},
     "output_type": "display_data"
    }
   ],
   "source": [
    "ror_df = ba_df_valid.groupby([\"year\", \"grade\"]).agg(\"mean\")[\"rate_of_return\"]\n",
    "display(ror_df)"
   ]
  },
  {
   "cell_type": "code",
   "execution_count": 70,
   "metadata": {},
   "outputs": [
    {
     "data": {
      "text/plain": [
       "(2012, 'G')"
      ]
     },
     "execution_count": 70,
     "metadata": {},
     "output_type": "execute_result"
    }
   ],
   "source": [
    "ror_df.idxmax()"
   ]
  },
  {
   "cell_type": "markdown",
   "metadata": {},
   "source": [
    "Interestingly, Grade 'G' loans issued in 2012 have the highest rate of return."
   ]
  },
  {
   "cell_type": "markdown",
   "metadata": {},
   "source": [
    "# 3. Logistic Regression Model"
   ]
  },
  {
   "cell_type": "markdown",
   "metadata": {},
   "source": [
    "Note: For this question I will focus on 36-month loans using the criteria as defined above. "
   ]
  },
  {
   "cell_type": "code",
   "execution_count": 71,
   "metadata": {},
   "outputs": [
    {
     "data": {
      "text/html": [
       "<div>\n",
       "<style scoped>\n",
       "    .dataframe tbody tr th:only-of-type {\n",
       "        vertical-align: middle;\n",
       "    }\n",
       "\n",
       "    .dataframe tbody tr th {\n",
       "        vertical-align: top;\n",
       "    }\n",
       "\n",
       "    .dataframe thead th {\n",
       "        text-align: right;\n",
       "    }\n",
       "</style>\n",
       "<table border=\"1\" class=\"dataframe\">\n",
       "  <thead>\n",
       "    <tr style=\"text-align: right;\">\n",
       "      <th></th>\n",
       "      <th>loan_amnt</th>\n",
       "      <th>funded_amnt</th>\n",
       "      <th>int_rate</th>\n",
       "      <th>grade</th>\n",
       "      <th>annual_inc</th>\n",
       "      <th>issue_d</th>\n",
       "      <th>dti</th>\n",
       "      <th>revol_bal</th>\n",
       "      <th>total_pymnt</th>\n",
       "      <th>year</th>\n",
       "      <th>default_flag</th>\n",
       "      <th>month</th>\n",
       "    </tr>\n",
       "  </thead>\n",
       "  <tbody>\n",
       "    <tr>\n",
       "      <th>0</th>\n",
       "      <td>5000.0</td>\n",
       "      <td>5000.0</td>\n",
       "      <td>10.65</td>\n",
       "      <td>B</td>\n",
       "      <td>24000.0</td>\n",
       "      <td>2011-12-01</td>\n",
       "      <td>27.65</td>\n",
       "      <td>13648.0</td>\n",
       "      <td>5861.071414</td>\n",
       "      <td>2011</td>\n",
       "      <td>0</td>\n",
       "      <td>12</td>\n",
       "    </tr>\n",
       "    <tr>\n",
       "      <th>2</th>\n",
       "      <td>2400.0</td>\n",
       "      <td>2400.0</td>\n",
       "      <td>15.96</td>\n",
       "      <td>C</td>\n",
       "      <td>12252.0</td>\n",
       "      <td>2011-12-01</td>\n",
       "      <td>8.72</td>\n",
       "      <td>2956.0</td>\n",
       "      <td>3003.653644</td>\n",
       "      <td>2011</td>\n",
       "      <td>0</td>\n",
       "      <td>12</td>\n",
       "    </tr>\n",
       "    <tr>\n",
       "      <th>3</th>\n",
       "      <td>10000.0</td>\n",
       "      <td>10000.0</td>\n",
       "      <td>13.49</td>\n",
       "      <td>C</td>\n",
       "      <td>49200.0</td>\n",
       "      <td>2011-12-01</td>\n",
       "      <td>20.00</td>\n",
       "      <td>5598.0</td>\n",
       "      <td>12226.302212</td>\n",
       "      <td>2011</td>\n",
       "      <td>0</td>\n",
       "      <td>12</td>\n",
       "    </tr>\n",
       "    <tr>\n",
       "      <th>5</th>\n",
       "      <td>5000.0</td>\n",
       "      <td>5000.0</td>\n",
       "      <td>7.90</td>\n",
       "      <td>A</td>\n",
       "      <td>36000.0</td>\n",
       "      <td>2011-12-01</td>\n",
       "      <td>11.20</td>\n",
       "      <td>7963.0</td>\n",
       "      <td>5631.377753</td>\n",
       "      <td>2011</td>\n",
       "      <td>0</td>\n",
       "      <td>12</td>\n",
       "    </tr>\n",
       "    <tr>\n",
       "      <th>7</th>\n",
       "      <td>3000.0</td>\n",
       "      <td>3000.0</td>\n",
       "      <td>18.64</td>\n",
       "      <td>E</td>\n",
       "      <td>48000.0</td>\n",
       "      <td>2011-12-01</td>\n",
       "      <td>5.35</td>\n",
       "      <td>8221.0</td>\n",
       "      <td>3938.144334</td>\n",
       "      <td>2011</td>\n",
       "      <td>0</td>\n",
       "      <td>12</td>\n",
       "    </tr>\n",
       "  </tbody>\n",
       "</table>\n",
       "</div>"
      ],
      "text/plain": [
       "   loan_amnt  funded_amnt  int_rate grade  annual_inc    issue_d    dti  \\\n",
       "0     5000.0       5000.0     10.65     B     24000.0 2011-12-01  27.65   \n",
       "2     2400.0       2400.0     15.96     C     12252.0 2011-12-01   8.72   \n",
       "3    10000.0      10000.0     13.49     C     49200.0 2011-12-01  20.00   \n",
       "5     5000.0       5000.0      7.90     A     36000.0 2011-12-01  11.20   \n",
       "7     3000.0       3000.0     18.64     E     48000.0 2011-12-01   5.35   \n",
       "\n",
       "   revol_bal   total_pymnt  year  default_flag  month  \n",
       "0    13648.0   5861.071414  2011             0     12  \n",
       "2     2956.0   3003.653644  2011             0     12  \n",
       "3     5598.0  12226.302212  2011             0     12  \n",
       "5     7963.0   5631.377753  2011             0     12  \n",
       "7     8221.0   3938.144334  2011             0     12  "
      ]
     },
     "execution_count": 71,
     "metadata": {},
     "output_type": "execute_result"
    }
   ],
   "source": [
    "# Using model_df as set above.\n",
    "model_df.head()"
   ]
  },
  {
   "cell_type": "code",
   "execution_count": 72,
   "metadata": {},
   "outputs": [
    {
     "data": {
      "text/plain": [
       "(70200, 12)"
      ]
     },
     "execution_count": 72,
     "metadata": {},
     "output_type": "execute_result"
    }
   ],
   "source": [
    "model_df.shape"
   ]
  },
  {
   "cell_type": "markdown",
   "metadata": {},
   "source": [
    "### Dealing with NULL/NaN Values and Outliers Identified Above"
   ]
  },
  {
   "cell_type": "markdown",
   "metadata": {},
   "source": [
    "First we will drop the NULL / NaN values identified above in order to train our logistic regression model. This seems especially reasonable considering the limited number of observations (4). Additional imputation methods could be considered at a later time depending on business requirements. It is also a requirement for scikit's training and testing that no NULL/NaN values are present."
   ]
  },
  {
   "cell_type": "code",
   "execution_count": 73,
   "metadata": {},
   "outputs": [],
   "source": [
    "model_df = model_df.dropna()"
   ]
  },
  {
   "cell_type": "code",
   "execution_count": 74,
   "metadata": {},
   "outputs": [
    {
     "data": {
      "text/html": [
       "<div>\n",
       "<style scoped>\n",
       "    .dataframe tbody tr th:only-of-type {\n",
       "        vertical-align: middle;\n",
       "    }\n",
       "\n",
       "    .dataframe tbody tr th {\n",
       "        vertical-align: top;\n",
       "    }\n",
       "\n",
       "    .dataframe thead th {\n",
       "        text-align: right;\n",
       "    }\n",
       "</style>\n",
       "<table border=\"1\" class=\"dataframe\">\n",
       "  <thead>\n",
       "    <tr style=\"text-align: right;\">\n",
       "      <th></th>\n",
       "      <th>loan_amnt</th>\n",
       "      <th>funded_amnt</th>\n",
       "      <th>int_rate</th>\n",
       "      <th>grade</th>\n",
       "      <th>annual_inc</th>\n",
       "      <th>issue_d</th>\n",
       "      <th>dti</th>\n",
       "      <th>revol_bal</th>\n",
       "      <th>total_pymnt</th>\n",
       "      <th>year</th>\n",
       "      <th>default_flag</th>\n",
       "      <th>month</th>\n",
       "    </tr>\n",
       "  </thead>\n",
       "  <tbody>\n",
       "    <tr>\n",
       "      <th>0</th>\n",
       "      <td>5000.0</td>\n",
       "      <td>5000.0</td>\n",
       "      <td>10.65</td>\n",
       "      <td>B</td>\n",
       "      <td>24000.0</td>\n",
       "      <td>2011-12-01</td>\n",
       "      <td>27.65</td>\n",
       "      <td>13648.0</td>\n",
       "      <td>5861.071414</td>\n",
       "      <td>2011</td>\n",
       "      <td>0</td>\n",
       "      <td>12</td>\n",
       "    </tr>\n",
       "    <tr>\n",
       "      <th>2</th>\n",
       "      <td>2400.0</td>\n",
       "      <td>2400.0</td>\n",
       "      <td>15.96</td>\n",
       "      <td>C</td>\n",
       "      <td>12252.0</td>\n",
       "      <td>2011-12-01</td>\n",
       "      <td>8.72</td>\n",
       "      <td>2956.0</td>\n",
       "      <td>3003.653644</td>\n",
       "      <td>2011</td>\n",
       "      <td>0</td>\n",
       "      <td>12</td>\n",
       "    </tr>\n",
       "    <tr>\n",
       "      <th>3</th>\n",
       "      <td>10000.0</td>\n",
       "      <td>10000.0</td>\n",
       "      <td>13.49</td>\n",
       "      <td>C</td>\n",
       "      <td>49200.0</td>\n",
       "      <td>2011-12-01</td>\n",
       "      <td>20.00</td>\n",
       "      <td>5598.0</td>\n",
       "      <td>12226.302212</td>\n",
       "      <td>2011</td>\n",
       "      <td>0</td>\n",
       "      <td>12</td>\n",
       "    </tr>\n",
       "    <tr>\n",
       "      <th>5</th>\n",
       "      <td>5000.0</td>\n",
       "      <td>5000.0</td>\n",
       "      <td>7.90</td>\n",
       "      <td>A</td>\n",
       "      <td>36000.0</td>\n",
       "      <td>2011-12-01</td>\n",
       "      <td>11.20</td>\n",
       "      <td>7963.0</td>\n",
       "      <td>5631.377753</td>\n",
       "      <td>2011</td>\n",
       "      <td>0</td>\n",
       "      <td>12</td>\n",
       "    </tr>\n",
       "    <tr>\n",
       "      <th>7</th>\n",
       "      <td>3000.0</td>\n",
       "      <td>3000.0</td>\n",
       "      <td>18.64</td>\n",
       "      <td>E</td>\n",
       "      <td>48000.0</td>\n",
       "      <td>2011-12-01</td>\n",
       "      <td>5.35</td>\n",
       "      <td>8221.0</td>\n",
       "      <td>3938.144334</td>\n",
       "      <td>2011</td>\n",
       "      <td>0</td>\n",
       "      <td>12</td>\n",
       "    </tr>\n",
       "  </tbody>\n",
       "</table>\n",
       "</div>"
      ],
      "text/plain": [
       "   loan_amnt  funded_amnt  int_rate grade  annual_inc    issue_d    dti  \\\n",
       "0     5000.0       5000.0     10.65     B     24000.0 2011-12-01  27.65   \n",
       "2     2400.0       2400.0     15.96     C     12252.0 2011-12-01   8.72   \n",
       "3    10000.0      10000.0     13.49     C     49200.0 2011-12-01  20.00   \n",
       "5     5000.0       5000.0      7.90     A     36000.0 2011-12-01  11.20   \n",
       "7     3000.0       3000.0     18.64     E     48000.0 2011-12-01   5.35   \n",
       "\n",
       "   revol_bal   total_pymnt  year  default_flag  month  \n",
       "0    13648.0   5861.071414  2011             0     12  \n",
       "2     2956.0   3003.653644  2011             0     12  \n",
       "3     5598.0  12226.302212  2011             0     12  \n",
       "5     7963.0   5631.377753  2011             0     12  \n",
       "7     8221.0   3938.144334  2011             0     12  "
      ]
     },
     "execution_count": 74,
     "metadata": {},
     "output_type": "execute_result"
    }
   ],
   "source": [
    "model_df.head()"
   ]
  },
  {
   "cell_type": "markdown",
   "metadata": {},
   "source": [
    "### Relevant Column Selection"
   ]
  },
  {
   "cell_type": "markdown",
   "metadata": {},
   "source": [
    "Loan application amount, funded amount, interest rate, grade, annual income, issue date, debt-to-income, and revolving balances are variables that should be present at loan issuance."
   ]
  },
  {
   "cell_type": "code",
   "execution_count": 75,
   "metadata": {},
   "outputs": [],
   "source": [
    "model_df = model_df[[\"loan_amnt\", \"funded_amnt\", \"int_rate\", \"grade\", \"annual_inc\", \"issue_d\", \"dti\", \"revol_bal\", \"default_flag\", \"year\", \"month\"]]"
   ]
  },
  {
   "cell_type": "code",
   "execution_count": 76,
   "metadata": {},
   "outputs": [
    {
     "data": {
      "text/plain": [
       "(70196, 11)"
      ]
     },
     "execution_count": 76,
     "metadata": {},
     "output_type": "execute_result"
    }
   ],
   "source": [
    "model_df.shape"
   ]
  },
  {
   "cell_type": "markdown",
   "metadata": {},
   "source": [
    "### Outlier Removal"
   ]
  },
  {
   "cell_type": "markdown",
   "metadata": {},
   "source": [
    "We can also exclude records that were identified as outliers above. Additional analysis or methods such as imputation may be needed depending on business requirements / model output requirements regarding dataset completeness."
   ]
  },
  {
   "cell_type": "code",
   "execution_count": 77,
   "metadata": {},
   "outputs": [],
   "source": [
    "model_df = model_df[((abs(model_df[\"annual_inc\"]-df_desc[\"annual_inc\"][\"mean\"] < thresh4)) & (abs(model_df[\"dti\"]-df_desc[\"dti\"][\"mean\"] < thresh5)) & (abs(model_df[\"revol_bal\"]-df_desc[\"revol_bal\"][\"mean\"]) < thresh6))]"
   ]
  },
  {
   "cell_type": "code",
   "execution_count": 78,
   "metadata": {},
   "outputs": [
    {
     "data": {
      "text/plain": [
       "(69636, 11)"
      ]
     },
     "execution_count": 78,
     "metadata": {},
     "output_type": "execute_result"
    }
   ],
   "source": [
    "model_df.shape"
   ]
  },
  {
   "cell_type": "markdown",
   "metadata": {},
   "source": [
    "### Feature Selection"
   ]
  },
  {
   "cell_type": "markdown",
   "metadata": {},
   "source": [
    "Since loan application amount is extremely highly correlated with funding amount and wouldn't seem to have a long term bearing on defaults we will exclude that column from consideration for our regression modeling. "
   ]
  },
  {
   "cell_type": "code",
   "execution_count": 79,
   "metadata": {},
   "outputs": [],
   "source": [
    "model_df = model_df[[\"funded_amnt\", \"int_rate\", \"grade\", \"annual_inc\", \"issue_d\", \"dti\", \"revol_bal\", \"default_flag\", \"year\"]]"
   ]
  },
  {
   "cell_type": "markdown",
   "metadata": {},
   "source": [
    "Because we are using L2 regularization we do not need to be as concerned about multicollinearity in this case. A deep dive into multicollinearity and some PCA / factor analysis would be a next step here and will help with regression coefficient interpretation."
   ]
  },
  {
   "cell_type": "markdown",
   "metadata": {},
   "source": [
    "Next we will need to one-hot encode our categorical variables in order to perform logistic regression."
   ]
  },
  {
   "cell_type": "code",
   "execution_count": 80,
   "metadata": {},
   "outputs": [],
   "source": [
    "model_df_one_hot = pd.concat([model_df[[\"funded_amnt\", \"int_rate\", \"annual_inc\", \"revol_bal\", \"dti\", \"default_flag\"]],\n",
    "                           pd.get_dummies(model_df[\"grade\"], prefix=\"grade\"),\n",
    "                           pd.get_dummies(model_df[\"year\"], prefix=\"year\")],axis=1)"
   ]
  },
  {
   "cell_type": "code",
   "execution_count": 81,
   "metadata": {},
   "outputs": [
    {
     "data": {
      "text/html": [
       "<div>\n",
       "<style scoped>\n",
       "    .dataframe tbody tr th:only-of-type {\n",
       "        vertical-align: middle;\n",
       "    }\n",
       "\n",
       "    .dataframe tbody tr th {\n",
       "        vertical-align: top;\n",
       "    }\n",
       "\n",
       "    .dataframe thead th {\n",
       "        text-align: right;\n",
       "    }\n",
       "</style>\n",
       "<table border=\"1\" class=\"dataframe\">\n",
       "  <thead>\n",
       "    <tr style=\"text-align: right;\">\n",
       "      <th></th>\n",
       "      <th>funded_amnt</th>\n",
       "      <th>int_rate</th>\n",
       "      <th>annual_inc</th>\n",
       "      <th>revol_bal</th>\n",
       "      <th>dti</th>\n",
       "      <th>default_flag</th>\n",
       "      <th>grade_A</th>\n",
       "      <th>grade_B</th>\n",
       "      <th>grade_C</th>\n",
       "      <th>grade_D</th>\n",
       "      <th>grade_E</th>\n",
       "      <th>grade_F</th>\n",
       "      <th>grade_G</th>\n",
       "      <th>year_2007</th>\n",
       "      <th>year_2008</th>\n",
       "      <th>year_2009</th>\n",
       "      <th>year_2010</th>\n",
       "      <th>year_2011</th>\n",
       "      <th>year_2012</th>\n",
       "    </tr>\n",
       "  </thead>\n",
       "  <tbody>\n",
       "    <tr>\n",
       "      <th>funded_amnt</th>\n",
       "      <td>1.000000</td>\n",
       "      <td>0.193897</td>\n",
       "      <td>0.411876</td>\n",
       "      <td>0.332515</td>\n",
       "      <td>0.051064</td>\n",
       "      <td>-0.027009</td>\n",
       "      <td>-0.093148</td>\n",
       "      <td>-0.018733</td>\n",
       "      <td>-0.011272</td>\n",
       "      <td>0.100831</td>\n",
       "      <td>0.105750</td>\n",
       "      <td>0.047839</td>\n",
       "      <td>0.024373</td>\n",
       "      <td>-0.038301</td>\n",
       "      <td>-0.063426</td>\n",
       "      <td>-0.032857</td>\n",
       "      <td>-0.056839</td>\n",
       "      <td>-0.085263</td>\n",
       "      <td>0.154434</td>\n",
       "    </tr>\n",
       "    <tr>\n",
       "      <th>int_rate</th>\n",
       "      <td>0.193897</td>\n",
       "      <td>1.000000</td>\n",
       "      <td>0.025042</td>\n",
       "      <td>0.093209</td>\n",
       "      <td>0.155424</td>\n",
       "      <td>0.175632</td>\n",
       "      <td>-0.771472</td>\n",
       "      <td>-0.054535</td>\n",
       "      <td>0.359583</td>\n",
       "      <td>0.491458</td>\n",
       "      <td>0.277830</td>\n",
       "      <td>0.154211</td>\n",
       "      <td>0.119593</td>\n",
       "      <td>-0.003857</td>\n",
       "      <td>0.004279</td>\n",
       "      <td>0.036938</td>\n",
       "      <td>-0.071214</td>\n",
       "      <td>-0.194544</td>\n",
       "      <td>0.184689</td>\n",
       "    </tr>\n",
       "    <tr>\n",
       "      <th>annual_inc</th>\n",
       "      <td>0.411876</td>\n",
       "      <td>0.025042</td>\n",
       "      <td>1.000000</td>\n",
       "      <td>0.394318</td>\n",
       "      <td>-0.171021</td>\n",
       "      <td>-0.075310</td>\n",
       "      <td>0.019019</td>\n",
       "      <td>-0.034928</td>\n",
       "      <td>-0.025183</td>\n",
       "      <td>0.021496</td>\n",
       "      <td>0.048020</td>\n",
       "      <td>0.027796</td>\n",
       "      <td>0.023640</td>\n",
       "      <td>-0.017830</td>\n",
       "      <td>-0.018113</td>\n",
       "      <td>0.002861</td>\n",
       "      <td>0.002612</td>\n",
       "      <td>0.007921</td>\n",
       "      <td>0.000150</td>\n",
       "    </tr>\n",
       "    <tr>\n",
       "      <th>revol_bal</th>\n",
       "      <td>0.332515</td>\n",
       "      <td>0.093209</td>\n",
       "      <td>0.394318</td>\n",
       "      <td>1.000000</td>\n",
       "      <td>0.238943</td>\n",
       "      <td>-0.007097</td>\n",
       "      <td>-0.069182</td>\n",
       "      <td>0.015718</td>\n",
       "      <td>0.006638</td>\n",
       "      <td>0.029918</td>\n",
       "      <td>0.038999</td>\n",
       "      <td>0.034636</td>\n",
       "      <td>0.031992</td>\n",
       "      <td>-0.022314</td>\n",
       "      <td>0.014716</td>\n",
       "      <td>0.011979</td>\n",
       "      <td>-0.019971</td>\n",
       "      <td>-0.049317</td>\n",
       "      <td>0.045702</td>\n",
       "    </tr>\n",
       "    <tr>\n",
       "      <th>dti</th>\n",
       "      <td>0.051064</td>\n",
       "      <td>0.155424</td>\n",
       "      <td>-0.171021</td>\n",
       "      <td>0.238943</td>\n",
       "      <td>1.000000</td>\n",
       "      <td>0.037826</td>\n",
       "      <td>-0.129491</td>\n",
       "      <td>0.057536</td>\n",
       "      <td>0.052748</td>\n",
       "      <td>0.023116</td>\n",
       "      <td>-0.002711</td>\n",
       "      <td>0.007779</td>\n",
       "      <td>0.021610</td>\n",
       "      <td>-0.052788</td>\n",
       "      <td>-0.044663</td>\n",
       "      <td>-0.094106</td>\n",
       "      <td>-0.104124</td>\n",
       "      <td>-0.094660</td>\n",
       "      <td>0.222112</td>\n",
       "    </tr>\n",
       "    <tr>\n",
       "      <th>default_flag</th>\n",
       "      <td>-0.027009</td>\n",
       "      <td>0.175632</td>\n",
       "      <td>-0.075310</td>\n",
       "      <td>-0.007097</td>\n",
       "      <td>0.037826</td>\n",
       "      <td>1.000000</td>\n",
       "      <td>-0.145737</td>\n",
       "      <td>-0.048959</td>\n",
       "      <td>0.061076</td>\n",
       "      <td>0.103989</td>\n",
       "      <td>0.103938</td>\n",
       "      <td>0.089157</td>\n",
       "      <td>0.096722</td>\n",
       "      <td>0.125294</td>\n",
       "      <td>0.147329</td>\n",
       "      <td>0.042324</td>\n",
       "      <td>0.007854</td>\n",
       "      <td>-0.066537</td>\n",
       "      <td>-0.050162</td>\n",
       "    </tr>\n",
       "    <tr>\n",
       "      <th>grade_A</th>\n",
       "      <td>-0.093148</td>\n",
       "      <td>-0.771472</td>\n",
       "      <td>0.019019</td>\n",
       "      <td>-0.069182</td>\n",
       "      <td>-0.129491</td>\n",
       "      <td>-0.145737</td>\n",
       "      <td>1.000000</td>\n",
       "      <td>-0.456108</td>\n",
       "      <td>-0.324911</td>\n",
       "      <td>-0.226943</td>\n",
       "      <td>-0.105188</td>\n",
       "      <td>-0.051861</td>\n",
       "      <td>-0.035330</td>\n",
       "      <td>-0.031406</td>\n",
       "      <td>-0.059744</td>\n",
       "      <td>-0.031797</td>\n",
       "      <td>0.003678</td>\n",
       "      <td>0.131843</td>\n",
       "      <td>-0.064681</td>\n",
       "    </tr>\n",
       "    <tr>\n",
       "      <th>grade_B</th>\n",
       "      <td>-0.018733</td>\n",
       "      <td>-0.054535</td>\n",
       "      <td>-0.034928</td>\n",
       "      <td>0.015718</td>\n",
       "      <td>0.057536</td>\n",
       "      <td>-0.048959</td>\n",
       "      <td>-0.456108</td>\n",
       "      <td>1.000000</td>\n",
       "      <td>-0.384847</td>\n",
       "      <td>-0.268807</td>\n",
       "      <td>-0.124592</td>\n",
       "      <td>-0.061428</td>\n",
       "      <td>-0.041848</td>\n",
       "      <td>-0.035488</td>\n",
       "      <td>-0.039969</td>\n",
       "      <td>-0.045893</td>\n",
       "      <td>-0.035975</td>\n",
       "      <td>-0.016968</td>\n",
       "      <td>0.083132</td>\n",
       "    </tr>\n",
       "    <tr>\n",
       "      <th>grade_C</th>\n",
       "      <td>-0.011272</td>\n",
       "      <td>0.359583</td>\n",
       "      <td>-0.025183</td>\n",
       "      <td>0.006638</td>\n",
       "      <td>0.052748</td>\n",
       "      <td>0.061076</td>\n",
       "      <td>-0.324911</td>\n",
       "      <td>-0.384847</td>\n",
       "      <td>1.000000</td>\n",
       "      <td>-0.191486</td>\n",
       "      <td>-0.088754</td>\n",
       "      <td>-0.043758</td>\n",
       "      <td>-0.029811</td>\n",
       "      <td>0.005550</td>\n",
       "      <td>0.012284</td>\n",
       "      <td>0.028630</td>\n",
       "      <td>0.009628</td>\n",
       "      <td>-0.071865</td>\n",
       "      <td>0.030890</td>\n",
       "    </tr>\n",
       "    <tr>\n",
       "      <th>grade_D</th>\n",
       "      <td>0.100831</td>\n",
       "      <td>0.491458</td>\n",
       "      <td>0.021496</td>\n",
       "      <td>0.029918</td>\n",
       "      <td>0.023116</td>\n",
       "      <td>0.103989</td>\n",
       "      <td>-0.226943</td>\n",
       "      <td>-0.268807</td>\n",
       "      <td>-0.191486</td>\n",
       "      <td>1.000000</td>\n",
       "      <td>-0.061993</td>\n",
       "      <td>-0.030564</td>\n",
       "      <td>-0.020822</td>\n",
       "      <td>0.013088</td>\n",
       "      <td>0.033379</td>\n",
       "      <td>0.032054</td>\n",
       "      <td>0.021977</td>\n",
       "      <td>-0.044172</td>\n",
       "      <td>-0.010602</td>\n",
       "    </tr>\n",
       "    <tr>\n",
       "      <th>grade_E</th>\n",
       "      <td>0.105750</td>\n",
       "      <td>0.277830</td>\n",
       "      <td>0.048020</td>\n",
       "      <td>0.038999</td>\n",
       "      <td>-0.002711</td>\n",
       "      <td>0.103938</td>\n",
       "      <td>-0.105188</td>\n",
       "      <td>-0.124592</td>\n",
       "      <td>-0.088754</td>\n",
       "      <td>-0.061993</td>\n",
       "      <td>1.000000</td>\n",
       "      <td>-0.014166</td>\n",
       "      <td>-0.009651</td>\n",
       "      <td>0.076616</td>\n",
       "      <td>0.104570</td>\n",
       "      <td>0.052127</td>\n",
       "      <td>0.019603</td>\n",
       "      <td>-0.026590</td>\n",
       "      <td>-0.071117</td>\n",
       "    </tr>\n",
       "    <tr>\n",
       "      <th>grade_F</th>\n",
       "      <td>0.047839</td>\n",
       "      <td>0.154211</td>\n",
       "      <td>0.027796</td>\n",
       "      <td>0.034636</td>\n",
       "      <td>0.007779</td>\n",
       "      <td>0.089157</td>\n",
       "      <td>-0.051861</td>\n",
       "      <td>-0.061428</td>\n",
       "      <td>-0.043758</td>\n",
       "      <td>-0.030564</td>\n",
       "      <td>-0.014166</td>\n",
       "      <td>1.000000</td>\n",
       "      <td>-0.004758</td>\n",
       "      <td>0.085718</td>\n",
       "      <td>0.086391</td>\n",
       "      <td>0.043695</td>\n",
       "      <td>0.012521</td>\n",
       "      <td>-0.018635</td>\n",
       "      <td>-0.063385</td>\n",
       "    </tr>\n",
       "    <tr>\n",
       "      <th>grade_G</th>\n",
       "      <td>0.024373</td>\n",
       "      <td>0.119593</td>\n",
       "      <td>0.023640</td>\n",
       "      <td>0.031992</td>\n",
       "      <td>0.021610</td>\n",
       "      <td>0.096722</td>\n",
       "      <td>-0.035330</td>\n",
       "      <td>-0.041848</td>\n",
       "      <td>-0.029811</td>\n",
       "      <td>-0.020822</td>\n",
       "      <td>-0.009651</td>\n",
       "      <td>-0.004758</td>\n",
       "      <td>1.000000</td>\n",
       "      <td>0.083960</td>\n",
       "      <td>0.099110</td>\n",
       "      <td>0.032167</td>\n",
       "      <td>0.003615</td>\n",
       "      <td>-0.022261</td>\n",
       "      <td>-0.052646</td>\n",
       "    </tr>\n",
       "    <tr>\n",
       "      <th>year_2007</th>\n",
       "      <td>-0.038301</td>\n",
       "      <td>-0.003857</td>\n",
       "      <td>-0.017830</td>\n",
       "      <td>-0.022314</td>\n",
       "      <td>-0.052788</td>\n",
       "      <td>0.125294</td>\n",
       "      <td>-0.031406</td>\n",
       "      <td>-0.035488</td>\n",
       "      <td>0.005550</td>\n",
       "      <td>0.013088</td>\n",
       "      <td>0.076616</td>\n",
       "      <td>0.085718</td>\n",
       "      <td>0.083960</td>\n",
       "      <td>1.000000</td>\n",
       "      <td>-0.017044</td>\n",
       "      <td>-0.025917</td>\n",
       "      <td>-0.035360</td>\n",
       "      <td>-0.045953</td>\n",
       "      <td>-0.101859</td>\n",
       "    </tr>\n",
       "    <tr>\n",
       "      <th>year_2008</th>\n",
       "      <td>-0.063426</td>\n",
       "      <td>0.004279</td>\n",
       "      <td>-0.018113</td>\n",
       "      <td>0.014716</td>\n",
       "      <td>-0.044663</td>\n",
       "      <td>0.147329</td>\n",
       "      <td>-0.059744</td>\n",
       "      <td>-0.039969</td>\n",
       "      <td>0.012284</td>\n",
       "      <td>0.033379</td>\n",
       "      <td>0.104570</td>\n",
       "      <td>0.086391</td>\n",
       "      <td>0.099110</td>\n",
       "      <td>-0.017044</td>\n",
       "      <td>1.000000</td>\n",
       "      <td>-0.052686</td>\n",
       "      <td>-0.071883</td>\n",
       "      <td>-0.093417</td>\n",
       "      <td>-0.207065</td>\n",
       "    </tr>\n",
       "    <tr>\n",
       "      <th>year_2009</th>\n",
       "      <td>-0.032857</td>\n",
       "      <td>0.036938</td>\n",
       "      <td>0.002861</td>\n",
       "      <td>0.011979</td>\n",
       "      <td>-0.094106</td>\n",
       "      <td>0.042324</td>\n",
       "      <td>-0.031797</td>\n",
       "      <td>-0.045893</td>\n",
       "      <td>0.028630</td>\n",
       "      <td>0.032054</td>\n",
       "      <td>0.052127</td>\n",
       "      <td>0.043695</td>\n",
       "      <td>0.032167</td>\n",
       "      <td>-0.025917</td>\n",
       "      <td>-0.052686</td>\n",
       "      <td>1.000000</td>\n",
       "      <td>-0.109303</td>\n",
       "      <td>-0.142047</td>\n",
       "      <td>-0.314859</td>\n",
       "    </tr>\n",
       "    <tr>\n",
       "      <th>year_2010</th>\n",
       "      <td>-0.056839</td>\n",
       "      <td>-0.071214</td>\n",
       "      <td>0.002612</td>\n",
       "      <td>-0.019971</td>\n",
       "      <td>-0.104124</td>\n",
       "      <td>0.007854</td>\n",
       "      <td>0.003678</td>\n",
       "      <td>-0.035975</td>\n",
       "      <td>0.009628</td>\n",
       "      <td>0.021977</td>\n",
       "      <td>0.019603</td>\n",
       "      <td>0.012521</td>\n",
       "      <td>0.003615</td>\n",
       "      <td>-0.035360</td>\n",
       "      <td>-0.071883</td>\n",
       "      <td>-0.109303</td>\n",
       "      <td>1.000000</td>\n",
       "      <td>-0.193803</td>\n",
       "      <td>-0.429578</td>\n",
       "    </tr>\n",
       "    <tr>\n",
       "      <th>year_2011</th>\n",
       "      <td>-0.085263</td>\n",
       "      <td>-0.194544</td>\n",
       "      <td>0.007921</td>\n",
       "      <td>-0.049317</td>\n",
       "      <td>-0.094660</td>\n",
       "      <td>-0.066537</td>\n",
       "      <td>0.131843</td>\n",
       "      <td>-0.016968</td>\n",
       "      <td>-0.071865</td>\n",
       "      <td>-0.044172</td>\n",
       "      <td>-0.026590</td>\n",
       "      <td>-0.018635</td>\n",
       "      <td>-0.022261</td>\n",
       "      <td>-0.045953</td>\n",
       "      <td>-0.093417</td>\n",
       "      <td>-0.142047</td>\n",
       "      <td>-0.193803</td>\n",
       "      <td>1.000000</td>\n",
       "      <td>-0.558268</td>\n",
       "    </tr>\n",
       "    <tr>\n",
       "      <th>year_2012</th>\n",
       "      <td>0.154434</td>\n",
       "      <td>0.184689</td>\n",
       "      <td>0.000150</td>\n",
       "      <td>0.045702</td>\n",
       "      <td>0.222112</td>\n",
       "      <td>-0.050162</td>\n",
       "      <td>-0.064681</td>\n",
       "      <td>0.083132</td>\n",
       "      <td>0.030890</td>\n",
       "      <td>-0.010602</td>\n",
       "      <td>-0.071117</td>\n",
       "      <td>-0.063385</td>\n",
       "      <td>-0.052646</td>\n",
       "      <td>-0.101859</td>\n",
       "      <td>-0.207065</td>\n",
       "      <td>-0.314859</td>\n",
       "      <td>-0.429578</td>\n",
       "      <td>-0.558268</td>\n",
       "      <td>1.000000</td>\n",
       "    </tr>\n",
       "  </tbody>\n",
       "</table>\n",
       "</div>"
      ],
      "text/plain": [
       "              funded_amnt  int_rate  annual_inc  revol_bal       dti  \\\n",
       "funded_amnt      1.000000  0.193897    0.411876   0.332515  0.051064   \n",
       "int_rate         0.193897  1.000000    0.025042   0.093209  0.155424   \n",
       "annual_inc       0.411876  0.025042    1.000000   0.394318 -0.171021   \n",
       "revol_bal        0.332515  0.093209    0.394318   1.000000  0.238943   \n",
       "dti              0.051064  0.155424   -0.171021   0.238943  1.000000   \n",
       "default_flag    -0.027009  0.175632   -0.075310  -0.007097  0.037826   \n",
       "grade_A         -0.093148 -0.771472    0.019019  -0.069182 -0.129491   \n",
       "grade_B         -0.018733 -0.054535   -0.034928   0.015718  0.057536   \n",
       "grade_C         -0.011272  0.359583   -0.025183   0.006638  0.052748   \n",
       "grade_D          0.100831  0.491458    0.021496   0.029918  0.023116   \n",
       "grade_E          0.105750  0.277830    0.048020   0.038999 -0.002711   \n",
       "grade_F          0.047839  0.154211    0.027796   0.034636  0.007779   \n",
       "grade_G          0.024373  0.119593    0.023640   0.031992  0.021610   \n",
       "year_2007       -0.038301 -0.003857   -0.017830  -0.022314 -0.052788   \n",
       "year_2008       -0.063426  0.004279   -0.018113   0.014716 -0.044663   \n",
       "year_2009       -0.032857  0.036938    0.002861   0.011979 -0.094106   \n",
       "year_2010       -0.056839 -0.071214    0.002612  -0.019971 -0.104124   \n",
       "year_2011       -0.085263 -0.194544    0.007921  -0.049317 -0.094660   \n",
       "year_2012        0.154434  0.184689    0.000150   0.045702  0.222112   \n",
       "\n",
       "              default_flag   grade_A   grade_B   grade_C   grade_D   grade_E  \\\n",
       "funded_amnt      -0.027009 -0.093148 -0.018733 -0.011272  0.100831  0.105750   \n",
       "int_rate          0.175632 -0.771472 -0.054535  0.359583  0.491458  0.277830   \n",
       "annual_inc       -0.075310  0.019019 -0.034928 -0.025183  0.021496  0.048020   \n",
       "revol_bal        -0.007097 -0.069182  0.015718  0.006638  0.029918  0.038999   \n",
       "dti               0.037826 -0.129491  0.057536  0.052748  0.023116 -0.002711   \n",
       "default_flag      1.000000 -0.145737 -0.048959  0.061076  0.103989  0.103938   \n",
       "grade_A          -0.145737  1.000000 -0.456108 -0.324911 -0.226943 -0.105188   \n",
       "grade_B          -0.048959 -0.456108  1.000000 -0.384847 -0.268807 -0.124592   \n",
       "grade_C           0.061076 -0.324911 -0.384847  1.000000 -0.191486 -0.088754   \n",
       "grade_D           0.103989 -0.226943 -0.268807 -0.191486  1.000000 -0.061993   \n",
       "grade_E           0.103938 -0.105188 -0.124592 -0.088754 -0.061993  1.000000   \n",
       "grade_F           0.089157 -0.051861 -0.061428 -0.043758 -0.030564 -0.014166   \n",
       "grade_G           0.096722 -0.035330 -0.041848 -0.029811 -0.020822 -0.009651   \n",
       "year_2007         0.125294 -0.031406 -0.035488  0.005550  0.013088  0.076616   \n",
       "year_2008         0.147329 -0.059744 -0.039969  0.012284  0.033379  0.104570   \n",
       "year_2009         0.042324 -0.031797 -0.045893  0.028630  0.032054  0.052127   \n",
       "year_2010         0.007854  0.003678 -0.035975  0.009628  0.021977  0.019603   \n",
       "year_2011        -0.066537  0.131843 -0.016968 -0.071865 -0.044172 -0.026590   \n",
       "year_2012        -0.050162 -0.064681  0.083132  0.030890 -0.010602 -0.071117   \n",
       "\n",
       "               grade_F   grade_G  year_2007  year_2008  year_2009  year_2010  \\\n",
       "funded_amnt   0.047839  0.024373  -0.038301  -0.063426  -0.032857  -0.056839   \n",
       "int_rate      0.154211  0.119593  -0.003857   0.004279   0.036938  -0.071214   \n",
       "annual_inc    0.027796  0.023640  -0.017830  -0.018113   0.002861   0.002612   \n",
       "revol_bal     0.034636  0.031992  -0.022314   0.014716   0.011979  -0.019971   \n",
       "dti           0.007779  0.021610  -0.052788  -0.044663  -0.094106  -0.104124   \n",
       "default_flag  0.089157  0.096722   0.125294   0.147329   0.042324   0.007854   \n",
       "grade_A      -0.051861 -0.035330  -0.031406  -0.059744  -0.031797   0.003678   \n",
       "grade_B      -0.061428 -0.041848  -0.035488  -0.039969  -0.045893  -0.035975   \n",
       "grade_C      -0.043758 -0.029811   0.005550   0.012284   0.028630   0.009628   \n",
       "grade_D      -0.030564 -0.020822   0.013088   0.033379   0.032054   0.021977   \n",
       "grade_E      -0.014166 -0.009651   0.076616   0.104570   0.052127   0.019603   \n",
       "grade_F       1.000000 -0.004758   0.085718   0.086391   0.043695   0.012521   \n",
       "grade_G      -0.004758  1.000000   0.083960   0.099110   0.032167   0.003615   \n",
       "year_2007     0.085718  0.083960   1.000000  -0.017044  -0.025917  -0.035360   \n",
       "year_2008     0.086391  0.099110  -0.017044   1.000000  -0.052686  -0.071883   \n",
       "year_2009     0.043695  0.032167  -0.025917  -0.052686   1.000000  -0.109303   \n",
       "year_2010     0.012521  0.003615  -0.035360  -0.071883  -0.109303   1.000000   \n",
       "year_2011    -0.018635 -0.022261  -0.045953  -0.093417  -0.142047  -0.193803   \n",
       "year_2012    -0.063385 -0.052646  -0.101859  -0.207065  -0.314859  -0.429578   \n",
       "\n",
       "              year_2011  year_2012  \n",
       "funded_amnt   -0.085263   0.154434  \n",
       "int_rate      -0.194544   0.184689  \n",
       "annual_inc     0.007921   0.000150  \n",
       "revol_bal     -0.049317   0.045702  \n",
       "dti           -0.094660   0.222112  \n",
       "default_flag  -0.066537  -0.050162  \n",
       "grade_A        0.131843  -0.064681  \n",
       "grade_B       -0.016968   0.083132  \n",
       "grade_C       -0.071865   0.030890  \n",
       "grade_D       -0.044172  -0.010602  \n",
       "grade_E       -0.026590  -0.071117  \n",
       "grade_F       -0.018635  -0.063385  \n",
       "grade_G       -0.022261  -0.052646  \n",
       "year_2007     -0.045953  -0.101859  \n",
       "year_2008     -0.093417  -0.207065  \n",
       "year_2009     -0.142047  -0.314859  \n",
       "year_2010     -0.193803  -0.429578  \n",
       "year_2011      1.000000  -0.558268  \n",
       "year_2012     -0.558268   1.000000  "
      ]
     },
     "execution_count": 81,
     "metadata": {},
     "output_type": "execute_result"
    }
   ],
   "source": [
    "model_df_one_hot.corr()"
   ]
  },
  {
   "cell_type": "code",
   "execution_count": 82,
   "metadata": {},
   "outputs": [],
   "source": [
    "predictors = model_df_one_hot.drop(\"default_flag\", axis=1)\n",
    "target = model_df_one_hot[\"default_flag\"]"
   ]
  },
  {
   "cell_type": "code",
   "execution_count": 83,
   "metadata": {},
   "outputs": [
    {
     "data": {
      "text/html": [
       "<div>\n",
       "<style scoped>\n",
       "    .dataframe tbody tr th:only-of-type {\n",
       "        vertical-align: middle;\n",
       "    }\n",
       "\n",
       "    .dataframe tbody tr th {\n",
       "        vertical-align: top;\n",
       "    }\n",
       "\n",
       "    .dataframe thead th {\n",
       "        text-align: right;\n",
       "    }\n",
       "</style>\n",
       "<table border=\"1\" class=\"dataframe\">\n",
       "  <thead>\n",
       "    <tr style=\"text-align: right;\">\n",
       "      <th></th>\n",
       "      <th>funded_amnt</th>\n",
       "      <th>int_rate</th>\n",
       "      <th>annual_inc</th>\n",
       "      <th>revol_bal</th>\n",
       "      <th>dti</th>\n",
       "      <th>grade_A</th>\n",
       "      <th>grade_B</th>\n",
       "      <th>grade_C</th>\n",
       "      <th>grade_D</th>\n",
       "      <th>grade_E</th>\n",
       "      <th>grade_F</th>\n",
       "      <th>grade_G</th>\n",
       "      <th>year_2007</th>\n",
       "      <th>year_2008</th>\n",
       "      <th>year_2009</th>\n",
       "      <th>year_2010</th>\n",
       "      <th>year_2011</th>\n",
       "      <th>year_2012</th>\n",
       "    </tr>\n",
       "  </thead>\n",
       "  <tbody>\n",
       "    <tr>\n",
       "      <th>0</th>\n",
       "      <td>5000.0</td>\n",
       "      <td>10.65</td>\n",
       "      <td>24000.0</td>\n",
       "      <td>13648.0</td>\n",
       "      <td>27.65</td>\n",
       "      <td>0</td>\n",
       "      <td>1</td>\n",
       "      <td>0</td>\n",
       "      <td>0</td>\n",
       "      <td>0</td>\n",
       "      <td>0</td>\n",
       "      <td>0</td>\n",
       "      <td>0</td>\n",
       "      <td>0</td>\n",
       "      <td>0</td>\n",
       "      <td>0</td>\n",
       "      <td>1</td>\n",
       "      <td>0</td>\n",
       "    </tr>\n",
       "    <tr>\n",
       "      <th>2</th>\n",
       "      <td>2400.0</td>\n",
       "      <td>15.96</td>\n",
       "      <td>12252.0</td>\n",
       "      <td>2956.0</td>\n",
       "      <td>8.72</td>\n",
       "      <td>0</td>\n",
       "      <td>0</td>\n",
       "      <td>1</td>\n",
       "      <td>0</td>\n",
       "      <td>0</td>\n",
       "      <td>0</td>\n",
       "      <td>0</td>\n",
       "      <td>0</td>\n",
       "      <td>0</td>\n",
       "      <td>0</td>\n",
       "      <td>0</td>\n",
       "      <td>1</td>\n",
       "      <td>0</td>\n",
       "    </tr>\n",
       "    <tr>\n",
       "      <th>3</th>\n",
       "      <td>10000.0</td>\n",
       "      <td>13.49</td>\n",
       "      <td>49200.0</td>\n",
       "      <td>5598.0</td>\n",
       "      <td>20.00</td>\n",
       "      <td>0</td>\n",
       "      <td>0</td>\n",
       "      <td>1</td>\n",
       "      <td>0</td>\n",
       "      <td>0</td>\n",
       "      <td>0</td>\n",
       "      <td>0</td>\n",
       "      <td>0</td>\n",
       "      <td>0</td>\n",
       "      <td>0</td>\n",
       "      <td>0</td>\n",
       "      <td>1</td>\n",
       "      <td>0</td>\n",
       "    </tr>\n",
       "    <tr>\n",
       "      <th>5</th>\n",
       "      <td>5000.0</td>\n",
       "      <td>7.90</td>\n",
       "      <td>36000.0</td>\n",
       "      <td>7963.0</td>\n",
       "      <td>11.20</td>\n",
       "      <td>1</td>\n",
       "      <td>0</td>\n",
       "      <td>0</td>\n",
       "      <td>0</td>\n",
       "      <td>0</td>\n",
       "      <td>0</td>\n",
       "      <td>0</td>\n",
       "      <td>0</td>\n",
       "      <td>0</td>\n",
       "      <td>0</td>\n",
       "      <td>0</td>\n",
       "      <td>1</td>\n",
       "      <td>0</td>\n",
       "    </tr>\n",
       "    <tr>\n",
       "      <th>7</th>\n",
       "      <td>3000.0</td>\n",
       "      <td>18.64</td>\n",
       "      <td>48000.0</td>\n",
       "      <td>8221.0</td>\n",
       "      <td>5.35</td>\n",
       "      <td>0</td>\n",
       "      <td>0</td>\n",
       "      <td>0</td>\n",
       "      <td>0</td>\n",
       "      <td>1</td>\n",
       "      <td>0</td>\n",
       "      <td>0</td>\n",
       "      <td>0</td>\n",
       "      <td>0</td>\n",
       "      <td>0</td>\n",
       "      <td>0</td>\n",
       "      <td>1</td>\n",
       "      <td>0</td>\n",
       "    </tr>\n",
       "  </tbody>\n",
       "</table>\n",
       "</div>"
      ],
      "text/plain": [
       "   funded_amnt  int_rate  annual_inc  revol_bal    dti  grade_A  grade_B  \\\n",
       "0       5000.0     10.65     24000.0    13648.0  27.65        0        1   \n",
       "2       2400.0     15.96     12252.0     2956.0   8.72        0        0   \n",
       "3      10000.0     13.49     49200.0     5598.0  20.00        0        0   \n",
       "5       5000.0      7.90     36000.0     7963.0  11.20        1        0   \n",
       "7       3000.0     18.64     48000.0     8221.0   5.35        0        0   \n",
       "\n",
       "   grade_C  grade_D  grade_E  grade_F  grade_G  year_2007  year_2008  \\\n",
       "0        0        0        0        0        0          0          0   \n",
       "2        1        0        0        0        0          0          0   \n",
       "3        1        0        0        0        0          0          0   \n",
       "5        0        0        0        0        0          0          0   \n",
       "7        0        0        1        0        0          0          0   \n",
       "\n",
       "   year_2009  year_2010  year_2011  year_2012  \n",
       "0          0          0          1          0  \n",
       "2          0          0          1          0  \n",
       "3          0          0          1          0  \n",
       "5          0          0          1          0  \n",
       "7          0          0          1          0  "
      ]
     },
     "execution_count": 83,
     "metadata": {},
     "output_type": "execute_result"
    }
   ],
   "source": [
    "predictors.head()"
   ]
  },
  {
   "cell_type": "code",
   "execution_count": 84,
   "metadata": {},
   "outputs": [
    {
     "data": {
      "text/plain": [
       "0    0\n",
       "2    0\n",
       "3    0\n",
       "5    0\n",
       "7    0\n",
       "Name: default_flag, dtype: int64"
      ]
     },
     "execution_count": 84,
     "metadata": {},
     "output_type": "execute_result"
    }
   ],
   "source": [
    "target.head()"
   ]
  },
  {
   "cell_type": "markdown",
   "metadata": {},
   "source": [
    "### Scaling"
   ]
  },
  {
   "cell_type": "markdown",
   "metadata": {},
   "source": [
    "We now need to scale our numerical predictors to be mean 0 and unit variance. This is especially critical due to the regularization encorporated in the sklearn logistic regression method and is generally best practice for preprocessing."
   ]
  },
  {
   "cell_type": "code",
   "execution_count": 85,
   "metadata": {},
   "outputs": [],
   "source": [
    "scalar = StandardScaler()\n",
    "scaled_predictors = copy.deepcopy(predictors)\n",
    "scaled_predictors[[\"funded_amnt\", \"int_rate\", \"annual_inc\", \"dti\", \"revol_bal\"]] = scalar.fit_transform(scaled_predictors[[\"funded_amnt\", \"int_rate\", \"annual_inc\", \"dti\", \"revol_bal\"]])"
   ]
  },
  {
   "cell_type": "code",
   "execution_count": 86,
   "metadata": {},
   "outputs": [
    {
     "data": {
      "text/html": [
       "<div>\n",
       "<style scoped>\n",
       "    .dataframe tbody tr th:only-of-type {\n",
       "        vertical-align: middle;\n",
       "    }\n",
       "\n",
       "    .dataframe tbody tr th {\n",
       "        vertical-align: top;\n",
       "    }\n",
       "\n",
       "    .dataframe thead th {\n",
       "        text-align: right;\n",
       "    }\n",
       "</style>\n",
       "<table border=\"1\" class=\"dataframe\">\n",
       "  <thead>\n",
       "    <tr style=\"text-align: right;\">\n",
       "      <th></th>\n",
       "      <th>funded_amnt</th>\n",
       "      <th>int_rate</th>\n",
       "      <th>annual_inc</th>\n",
       "      <th>revol_bal</th>\n",
       "      <th>dti</th>\n",
       "      <th>grade_A</th>\n",
       "      <th>grade_B</th>\n",
       "      <th>grade_C</th>\n",
       "      <th>grade_D</th>\n",
       "      <th>grade_E</th>\n",
       "      <th>grade_F</th>\n",
       "      <th>grade_G</th>\n",
       "      <th>year_2007</th>\n",
       "      <th>year_2008</th>\n",
       "      <th>year_2009</th>\n",
       "      <th>year_2010</th>\n",
       "      <th>year_2011</th>\n",
       "      <th>year_2012</th>\n",
       "    </tr>\n",
       "  </thead>\n",
       "  <tbody>\n",
       "    <tr>\n",
       "      <th>count</th>\n",
       "      <td>6.963600e+04</td>\n",
       "      <td>6.963600e+04</td>\n",
       "      <td>6.963600e+04</td>\n",
       "      <td>6.963600e+04</td>\n",
       "      <td>6.963600e+04</td>\n",
       "      <td>69636.000000</td>\n",
       "      <td>69636.000000</td>\n",
       "      <td>69636.000000</td>\n",
       "      <td>69636.000000</td>\n",
       "      <td>69636.000000</td>\n",
       "      <td>69636.000000</td>\n",
       "      <td>69636.000000</td>\n",
       "      <td>69636.000000</td>\n",
       "      <td>69636.000000</td>\n",
       "      <td>69636.000000</td>\n",
       "      <td>69636.000000</td>\n",
       "      <td>69636.000000</td>\n",
       "      <td>69636.000000</td>\n",
       "    </tr>\n",
       "    <tr>\n",
       "      <th>mean</th>\n",
       "      <td>5.685121e-15</td>\n",
       "      <td>6.983701e-15</td>\n",
       "      <td>-8.190677e-17</td>\n",
       "      <td>-6.309718e-16</td>\n",
       "      <td>1.865279e-17</td>\n",
       "      <td>0.278017</td>\n",
       "      <td>0.350752</td>\n",
       "      <td>0.215162</td>\n",
       "      <td>0.117971</td>\n",
       "      <td>0.027931</td>\n",
       "      <td>0.006936</td>\n",
       "      <td>0.003231</td>\n",
       "      <td>0.008315</td>\n",
       "      <td>0.033488</td>\n",
       "      <td>0.074171</td>\n",
       "      <td>0.129775</td>\n",
       "      <td>0.201189</td>\n",
       "      <td>0.553062</td>\n",
       "    </tr>\n",
       "    <tr>\n",
       "      <th>std</th>\n",
       "      <td>1.000007e+00</td>\n",
       "      <td>1.000007e+00</td>\n",
       "      <td>1.000007e+00</td>\n",
       "      <td>1.000007e+00</td>\n",
       "      <td>1.000007e+00</td>\n",
       "      <td>0.448025</td>\n",
       "      <td>0.477209</td>\n",
       "      <td>0.410937</td>\n",
       "      <td>0.322576</td>\n",
       "      <td>0.164776</td>\n",
       "      <td>0.082994</td>\n",
       "      <td>0.056751</td>\n",
       "      <td>0.090806</td>\n",
       "      <td>0.179909</td>\n",
       "      <td>0.262052</td>\n",
       "      <td>0.336058</td>\n",
       "      <td>0.400892</td>\n",
       "      <td>0.497180</td>\n",
       "    </tr>\n",
       "    <tr>\n",
       "      <th>min</th>\n",
       "      <td>-1.497521e+00</td>\n",
       "      <td>-1.805667e+00</td>\n",
       "      <td>-1.685277e+00</td>\n",
       "      <td>-1.020973e+00</td>\n",
       "      <td>-2.011219e+00</td>\n",
       "      <td>0.000000</td>\n",
       "      <td>0.000000</td>\n",
       "      <td>0.000000</td>\n",
       "      <td>0.000000</td>\n",
       "      <td>0.000000</td>\n",
       "      <td>0.000000</td>\n",
       "      <td>0.000000</td>\n",
       "      <td>0.000000</td>\n",
       "      <td>0.000000</td>\n",
       "      <td>0.000000</td>\n",
       "      <td>0.000000</td>\n",
       "      <td>0.000000</td>\n",
       "      <td>0.000000</td>\n",
       "    </tr>\n",
       "    <tr>\n",
       "      <th>25%</th>\n",
       "      <td>-7.326330e-01</td>\n",
       "      <td>-8.446114e-01</td>\n",
       "      <td>-6.590923e-01</td>\n",
       "      <td>-6.381062e-01</td>\n",
       "      <td>-7.582490e-01</td>\n",
       "      <td>0.000000</td>\n",
       "      <td>0.000000</td>\n",
       "      <td>0.000000</td>\n",
       "      <td>0.000000</td>\n",
       "      <td>0.000000</td>\n",
       "      <td>0.000000</td>\n",
       "      <td>0.000000</td>\n",
       "      <td>0.000000</td>\n",
       "      <td>0.000000</td>\n",
       "      <td>0.000000</td>\n",
       "      <td>0.000000</td>\n",
       "      <td>0.000000</td>\n",
       "      <td>0.000000</td>\n",
       "    </tr>\n",
       "    <tr>\n",
       "      <th>50%</th>\n",
       "      <td>-1.439690e-01</td>\n",
       "      <td>4.464156e-02</td>\n",
       "      <td>-2.416595e-01</td>\n",
       "      <td>-2.555928e-01</td>\n",
       "      <td>-1.969854e-02</td>\n",
       "      <td>0.000000</td>\n",
       "      <td>0.000000</td>\n",
       "      <td>0.000000</td>\n",
       "      <td>0.000000</td>\n",
       "      <td>0.000000</td>\n",
       "      <td>0.000000</td>\n",
       "      <td>0.000000</td>\n",
       "      <td>0.000000</td>\n",
       "      <td>0.000000</td>\n",
       "      <td>0.000000</td>\n",
       "      <td>0.000000</td>\n",
       "      <td>0.000000</td>\n",
       "      <td>1.000000</td>\n",
       "    </tr>\n",
       "    <tr>\n",
       "      <th>75%</th>\n",
       "      <td>5.271830e-01</td>\n",
       "      <td>6.549674e-01</td>\n",
       "      <td>4.181537e-01</td>\n",
       "      <td>3.111469e-01</td>\n",
       "      <td>7.256029e-01</td>\n",
       "      <td>1.000000</td>\n",
       "      <td>1.000000</td>\n",
       "      <td>0.000000</td>\n",
       "      <td>0.000000</td>\n",
       "      <td>0.000000</td>\n",
       "      <td>0.000000</td>\n",
       "      <td>0.000000</td>\n",
       "      <td>0.000000</td>\n",
       "      <td>0.000000</td>\n",
       "      <td>0.000000</td>\n",
       "      <td>0.000000</td>\n",
       "      <td>0.000000</td>\n",
       "      <td>1.000000</td>\n",
       "    </tr>\n",
       "    <tr>\n",
       "      <th>max</th>\n",
       "      <td>3.676723e+00</td>\n",
       "      <td>3.571275e+00</td>\n",
       "      <td>7.231735e+00</td>\n",
       "      <td>7.347348e+00</td>\n",
       "      <td>2.713073e+00</td>\n",
       "      <td>1.000000</td>\n",
       "      <td>1.000000</td>\n",
       "      <td>1.000000</td>\n",
       "      <td>1.000000</td>\n",
       "      <td>1.000000</td>\n",
       "      <td>1.000000</td>\n",
       "      <td>1.000000</td>\n",
       "      <td>1.000000</td>\n",
       "      <td>1.000000</td>\n",
       "      <td>1.000000</td>\n",
       "      <td>1.000000</td>\n",
       "      <td>1.000000</td>\n",
       "      <td>1.000000</td>\n",
       "    </tr>\n",
       "  </tbody>\n",
       "</table>\n",
       "</div>"
      ],
      "text/plain": [
       "        funded_amnt      int_rate    annual_inc     revol_bal           dti  \\\n",
       "count  6.963600e+04  6.963600e+04  6.963600e+04  6.963600e+04  6.963600e+04   \n",
       "mean   5.685121e-15  6.983701e-15 -8.190677e-17 -6.309718e-16  1.865279e-17   \n",
       "std    1.000007e+00  1.000007e+00  1.000007e+00  1.000007e+00  1.000007e+00   \n",
       "min   -1.497521e+00 -1.805667e+00 -1.685277e+00 -1.020973e+00 -2.011219e+00   \n",
       "25%   -7.326330e-01 -8.446114e-01 -6.590923e-01 -6.381062e-01 -7.582490e-01   \n",
       "50%   -1.439690e-01  4.464156e-02 -2.416595e-01 -2.555928e-01 -1.969854e-02   \n",
       "75%    5.271830e-01  6.549674e-01  4.181537e-01  3.111469e-01  7.256029e-01   \n",
       "max    3.676723e+00  3.571275e+00  7.231735e+00  7.347348e+00  2.713073e+00   \n",
       "\n",
       "            grade_A       grade_B       grade_C       grade_D       grade_E  \\\n",
       "count  69636.000000  69636.000000  69636.000000  69636.000000  69636.000000   \n",
       "mean       0.278017      0.350752      0.215162      0.117971      0.027931   \n",
       "std        0.448025      0.477209      0.410937      0.322576      0.164776   \n",
       "min        0.000000      0.000000      0.000000      0.000000      0.000000   \n",
       "25%        0.000000      0.000000      0.000000      0.000000      0.000000   \n",
       "50%        0.000000      0.000000      0.000000      0.000000      0.000000   \n",
       "75%        1.000000      1.000000      0.000000      0.000000      0.000000   \n",
       "max        1.000000      1.000000      1.000000      1.000000      1.000000   \n",
       "\n",
       "            grade_F       grade_G     year_2007     year_2008     year_2009  \\\n",
       "count  69636.000000  69636.000000  69636.000000  69636.000000  69636.000000   \n",
       "mean       0.006936      0.003231      0.008315      0.033488      0.074171   \n",
       "std        0.082994      0.056751      0.090806      0.179909      0.262052   \n",
       "min        0.000000      0.000000      0.000000      0.000000      0.000000   \n",
       "25%        0.000000      0.000000      0.000000      0.000000      0.000000   \n",
       "50%        0.000000      0.000000      0.000000      0.000000      0.000000   \n",
       "75%        0.000000      0.000000      0.000000      0.000000      0.000000   \n",
       "max        1.000000      1.000000      1.000000      1.000000      1.000000   \n",
       "\n",
       "          year_2010     year_2011     year_2012  \n",
       "count  69636.000000  69636.000000  69636.000000  \n",
       "mean       0.129775      0.201189      0.553062  \n",
       "std        0.336058      0.400892      0.497180  \n",
       "min        0.000000      0.000000      0.000000  \n",
       "25%        0.000000      0.000000      0.000000  \n",
       "50%        0.000000      0.000000      1.000000  \n",
       "75%        0.000000      0.000000      1.000000  \n",
       "max        1.000000      1.000000      1.000000  "
      ]
     },
     "execution_count": 86,
     "metadata": {},
     "output_type": "execute_result"
    }
   ],
   "source": [
    "scaled_predictors.describe()"
   ]
  },
  {
   "cell_type": "markdown",
   "metadata": {},
   "source": [
    "### Modeling Training and Testing"
   ]
  },
  {
   "cell_type": "markdown",
   "metadata": {},
   "source": [
    "We will now split our dataset into a train and test set. This is critical to identify how our regresssion performs out of sample. "
   ]
  },
  {
   "cell_type": "code",
   "execution_count": 87,
   "metadata": {},
   "outputs": [],
   "source": [
    "predictors_train, predictors_test, target_train, target_test = train_test_split(scaled_predictors, target, test_size=0.33, random_state=0)"
   ]
  },
  {
   "cell_type": "markdown",
   "metadata": {},
   "source": [
    "Next we can get our class probabilities of our outcome variables for our train and test sets."
   ]
  },
  {
   "cell_type": "code",
   "execution_count": 88,
   "metadata": {},
   "outputs": [
    {
     "data": {
      "text/plain": [
       "0    0.846236\n",
       "1    0.153764\n",
       "Name: default_flag, dtype: float64"
      ]
     },
     "execution_count": 88,
     "metadata": {},
     "output_type": "execute_result"
    }
   ],
   "source": [
    "target_train.value_counts()/len(target_train)"
   ]
  },
  {
   "cell_type": "code",
   "execution_count": 89,
   "metadata": {},
   "outputs": [
    {
     "data": {
      "text/plain": [
       "0    0.84356\n",
       "1    0.15644\n",
       "Name: default_flag, dtype: float64"
      ]
     },
     "execution_count": 89,
     "metadata": {},
     "output_type": "execute_result"
    }
   ],
   "source": [
    "target_test.value_counts()/len(target_test)"
   ]
  },
  {
   "cell_type": "markdown",
   "metadata": {},
   "source": [
    "Next we can build and fit our regression model. A few notes on the fitting:\n",
    "\n",
    "1. We will use CV to help with hyperparameter selection for regularization.\n",
    "2. I have found the regularization selection (L1/L2) does not change the resultant coefficients in this case.\n",
    "In general L2 regularization is preferred, especially in cases of potential multicollinearity, so that is my selection.\n",
    "3. We will use the balanced class weight parameter which should help in this unbalanced case. Testing showed that removing this parameter increases precision for both classes but drastically reduces recall. If we considered recall as being more important than precision for this case, Ie. a false negative is more damaging than a false positive for the loan default scenario, then this is valuable."
   ]
  },
  {
   "cell_type": "code",
   "execution_count": 90,
   "metadata": {},
   "outputs": [],
   "source": [
    "clf = LogisticRegressionCV(cv=5, random_state=0, solver='lbfgs', penalty='l2', class_weight=\"balanced\", max_iter=1000).fit(predictors_train, target_train)"
   ]
  },
  {
   "cell_type": "code",
   "execution_count": 91,
   "metadata": {},
   "outputs": [
    {
     "data": {
      "text/html": [
       "<div>\n",
       "<style scoped>\n",
       "    .dataframe tbody tr th:only-of-type {\n",
       "        vertical-align: middle;\n",
       "    }\n",
       "\n",
       "    .dataframe tbody tr th {\n",
       "        vertical-align: top;\n",
       "    }\n",
       "\n",
       "    .dataframe thead th {\n",
       "        text-align: right;\n",
       "    }\n",
       "</style>\n",
       "<table border=\"1\" class=\"dataframe\">\n",
       "  <thead>\n",
       "    <tr style=\"text-align: right;\">\n",
       "      <th></th>\n",
       "      <th>0</th>\n",
       "      <th>0</th>\n",
       "    </tr>\n",
       "  </thead>\n",
       "  <tbody>\n",
       "    <tr>\n",
       "      <th>0</th>\n",
       "      <td>funded_amnt</td>\n",
       "      <td>0.958</td>\n",
       "    </tr>\n",
       "    <tr>\n",
       "      <th>1</th>\n",
       "      <td>int_rate</td>\n",
       "      <td>1.144</td>\n",
       "    </tr>\n",
       "    <tr>\n",
       "      <th>2</th>\n",
       "      <td>annual_inc</td>\n",
       "      <td>0.775</td>\n",
       "    </tr>\n",
       "    <tr>\n",
       "      <th>3</th>\n",
       "      <td>revol_bal</td>\n",
       "      <td>1.014</td>\n",
       "    </tr>\n",
       "    <tr>\n",
       "      <th>4</th>\n",
       "      <td>dti</td>\n",
       "      <td>1.073</td>\n",
       "    </tr>\n",
       "    <tr>\n",
       "      <th>5</th>\n",
       "      <td>grade_A</td>\n",
       "      <td>0.303</td>\n",
       "    </tr>\n",
       "    <tr>\n",
       "      <th>6</th>\n",
       "      <td>grade_B</td>\n",
       "      <td>0.501</td>\n",
       "    </tr>\n",
       "    <tr>\n",
       "      <th>7</th>\n",
       "      <td>grade_C</td>\n",
       "      <td>0.724</td>\n",
       "    </tr>\n",
       "    <tr>\n",
       "      <th>8</th>\n",
       "      <td>grade_D</td>\n",
       "      <td>0.883</td>\n",
       "    </tr>\n",
       "    <tr>\n",
       "      <th>9</th>\n",
       "      <td>grade_E</td>\n",
       "      <td>1.230</td>\n",
       "    </tr>\n",
       "    <tr>\n",
       "      <th>10</th>\n",
       "      <td>grade_F</td>\n",
       "      <td>2.052</td>\n",
       "    </tr>\n",
       "    <tr>\n",
       "      <th>11</th>\n",
       "      <td>grade_G</td>\n",
       "      <td>4.826</td>\n",
       "    </tr>\n",
       "    <tr>\n",
       "      <th>12</th>\n",
       "      <td>year_2007</td>\n",
       "      <td>4.320</td>\n",
       "    </tr>\n",
       "    <tr>\n",
       "      <th>13</th>\n",
       "      <td>year_2008</td>\n",
       "      <td>2.090</td>\n",
       "    </tr>\n",
       "    <tr>\n",
       "      <th>14</th>\n",
       "      <td>year_2009</td>\n",
       "      <td>0.810</td>\n",
       "    </tr>\n",
       "    <tr>\n",
       "      <th>15</th>\n",
       "      <td>year_2010</td>\n",
       "      <td>0.630</td>\n",
       "    </tr>\n",
       "    <tr>\n",
       "      <th>16</th>\n",
       "      <td>year_2011</td>\n",
       "      <td>0.475</td>\n",
       "    </tr>\n",
       "    <tr>\n",
       "      <th>17</th>\n",
       "      <td>year_2012</td>\n",
       "      <td>0.541</td>\n",
       "    </tr>\n",
       "  </tbody>\n",
       "</table>\n",
       "</div>"
      ],
      "text/plain": [
       "              0     0\n",
       "0   funded_amnt 0.958\n",
       "1      int_rate 1.144\n",
       "2    annual_inc 0.775\n",
       "3     revol_bal 1.014\n",
       "4           dti 1.073\n",
       "5       grade_A 0.303\n",
       "6       grade_B 0.501\n",
       "7       grade_C 0.724\n",
       "8       grade_D 0.883\n",
       "9       grade_E 1.230\n",
       "10      grade_F 2.052\n",
       "11      grade_G 4.826\n",
       "12    year_2007 4.320\n",
       "13    year_2008 2.090\n",
       "14    year_2009 0.810\n",
       "15    year_2010 0.630\n",
       "16    year_2011 0.475\n",
       "17    year_2012 0.541"
      ]
     },
     "metadata": {},
     "output_type": "display_data"
    }
   ],
   "source": [
    "pd.set_option('display.float_format', lambda x: '%.3f' % x)\n",
    "coefficients = pd.concat([pd.DataFrame(predictors.columns),pd.DataFrame(np.transpose(np.exp(clf.coef_)))], axis = 1)\n",
    "display(coefficients)"
   ]
  },
  {
   "cell_type": "code",
   "execution_count": 92,
   "metadata": {},
   "outputs": [
    {
     "data": {
      "text/plain": [
       "0.6509130658436214"
      ]
     },
     "execution_count": 92,
     "metadata": {},
     "output_type": "execute_result"
    }
   ],
   "source": [
    "clf.score(predictors_train, target_train)"
   ]
  },
  {
   "cell_type": "code",
   "execution_count": 93,
   "metadata": {},
   "outputs": [
    {
     "name": "stdout",
     "output_type": "stream",
     "text": [
      "[0.44438477 0.43466474 0.28810599 ... 0.68830438 0.4625606  0.50112447]\n"
     ]
    }
   ],
   "source": [
    "probabilities_train = clf.predict_proba(predictors_train)[::,1]\n",
    "print(probabilities_train)"
   ]
  },
  {
   "cell_type": "code",
   "execution_count": 94,
   "metadata": {},
   "outputs": [
    {
     "name": "stdout",
     "output_type": "stream",
     "text": [
      "[0 0 0 ... 1 0 1]\n"
     ]
    }
   ],
   "source": [
    "predicted_train = clf.predict(predictors_train)\n",
    "print(predicted_train)"
   ]
  },
  {
   "cell_type": "code",
   "execution_count": 95,
   "metadata": {},
   "outputs": [
    {
     "data": {
      "text/html": [
       "<div>\n",
       "<style scoped>\n",
       "    .dataframe tbody tr th:only-of-type {\n",
       "        vertical-align: middle;\n",
       "    }\n",
       "\n",
       "    .dataframe tbody tr th {\n",
       "        vertical-align: top;\n",
       "    }\n",
       "\n",
       "    .dataframe thead th {\n",
       "        text-align: right;\n",
       "    }\n",
       "</style>\n",
       "<table border=\"1\" class=\"dataframe\">\n",
       "  <thead>\n",
       "    <tr style=\"text-align: right;\">\n",
       "      <th></th>\n",
       "      <th>Probabilities</th>\n",
       "      <th>Predicted</th>\n",
       "    </tr>\n",
       "  </thead>\n",
       "  <tbody>\n",
       "    <tr>\n",
       "      <th>0</th>\n",
       "      <td>0.444</td>\n",
       "      <td>0</td>\n",
       "    </tr>\n",
       "    <tr>\n",
       "      <th>1</th>\n",
       "      <td>0.435</td>\n",
       "      <td>0</td>\n",
       "    </tr>\n",
       "    <tr>\n",
       "      <th>2</th>\n",
       "      <td>0.288</td>\n",
       "      <td>0</td>\n",
       "    </tr>\n",
       "    <tr>\n",
       "      <th>3</th>\n",
       "      <td>0.376</td>\n",
       "      <td>0</td>\n",
       "    </tr>\n",
       "    <tr>\n",
       "      <th>4</th>\n",
       "      <td>0.480</td>\n",
       "      <td>0</td>\n",
       "    </tr>\n",
       "  </tbody>\n",
       "</table>\n",
       "</div>"
      ],
      "text/plain": [
       "   Probabilities  Predicted\n",
       "0          0.444          0\n",
       "1          0.435          0\n",
       "2          0.288          0\n",
       "3          0.376          0\n",
       "4          0.480          0"
      ]
     },
     "execution_count": 95,
     "metadata": {},
     "output_type": "execute_result"
    }
   ],
   "source": [
    "predicted_train_df = pd.DataFrame({'Probabilities':probabilities_train, 'Predicted':predicted_train})\n",
    "predicted_train_df.head()"
   ]
  },
  {
   "cell_type": "code",
   "execution_count": 96,
   "metadata": {},
   "outputs": [
    {
     "data": {
      "text/plain": [
       "0.6458659704090514"
      ]
     },
     "execution_count": 96,
     "metadata": {},
     "output_type": "execute_result"
    }
   ],
   "source": [
    "clf.score(predictors_test, target_test)"
   ]
  },
  {
   "cell_type": "code",
   "execution_count": 97,
   "metadata": {},
   "outputs": [
    {
     "name": "stdout",
     "output_type": "stream",
     "text": [
      "[0.3042541  0.35938146 0.43413551 ... 0.49756599 0.91573313 0.5690408 ]\n"
     ]
    }
   ],
   "source": [
    "probabilities_test = clf.predict_proba(predictors_test)[::,1]\n",
    "print(probabilities_test)"
   ]
  },
  {
   "cell_type": "code",
   "execution_count": 98,
   "metadata": {},
   "outputs": [
    {
     "name": "stdout",
     "output_type": "stream",
     "text": [
      "[0 0 0 ... 0 1 1]\n"
     ]
    }
   ],
   "source": [
    "predicted_test = clf.predict(predictors_test)\n",
    "print(predicted_test)"
   ]
  },
  {
   "cell_type": "code",
   "execution_count": 99,
   "metadata": {},
   "outputs": [
    {
     "data": {
      "text/plain": [
       "array([14043,  8937])"
      ]
     },
     "execution_count": 99,
     "metadata": {},
     "output_type": "execute_result"
    }
   ],
   "source": [
    "np.bincount(predicted_test)"
   ]
  },
  {
   "cell_type": "code",
   "execution_count": 100,
   "metadata": {},
   "outputs": [
    {
     "data": {
      "text/html": [
       "<div>\n",
       "<style scoped>\n",
       "    .dataframe tbody tr th:only-of-type {\n",
       "        vertical-align: middle;\n",
       "    }\n",
       "\n",
       "    .dataframe tbody tr th {\n",
       "        vertical-align: top;\n",
       "    }\n",
       "\n",
       "    .dataframe thead th {\n",
       "        text-align: right;\n",
       "    }\n",
       "</style>\n",
       "<table border=\"1\" class=\"dataframe\">\n",
       "  <thead>\n",
       "    <tr style=\"text-align: right;\">\n",
       "      <th></th>\n",
       "      <th>Probabilities</th>\n",
       "      <th>Predicted</th>\n",
       "    </tr>\n",
       "  </thead>\n",
       "  <tbody>\n",
       "    <tr>\n",
       "      <th>0</th>\n",
       "      <td>0.304</td>\n",
       "      <td>0</td>\n",
       "    </tr>\n",
       "    <tr>\n",
       "      <th>1</th>\n",
       "      <td>0.359</td>\n",
       "      <td>0</td>\n",
       "    </tr>\n",
       "    <tr>\n",
       "      <th>2</th>\n",
       "      <td>0.434</td>\n",
       "      <td>0</td>\n",
       "    </tr>\n",
       "    <tr>\n",
       "      <th>3</th>\n",
       "      <td>0.644</td>\n",
       "      <td>1</td>\n",
       "    </tr>\n",
       "    <tr>\n",
       "      <th>4</th>\n",
       "      <td>0.292</td>\n",
       "      <td>0</td>\n",
       "    </tr>\n",
       "  </tbody>\n",
       "</table>\n",
       "</div>"
      ],
      "text/plain": [
       "   Probabilities  Predicted\n",
       "0          0.304          0\n",
       "1          0.359          0\n",
       "2          0.434          0\n",
       "3          0.644          1\n",
       "4          0.292          0"
      ]
     },
     "execution_count": 100,
     "metadata": {},
     "output_type": "execute_result"
    }
   ],
   "source": [
    "predicted_test_df = pd.DataFrame({'Probabilities': probabilities_test, 'Predicted': predicted_test})\n",
    "predicted_test_df.head()"
   ]
  },
  {
   "cell_type": "code",
   "execution_count": 101,
   "metadata": {},
   "outputs": [
    {
     "data": {
      "text/plain": [
       "array([[12645,  6740],\n",
       "       [ 1398,  2197]])"
      ]
     },
     "execution_count": 101,
     "metadata": {},
     "output_type": "execute_result"
    }
   ],
   "source": [
    "metrics.confusion_matrix(target_test, predicted_test)"
   ]
  },
  {
   "cell_type": "code",
   "execution_count": 102,
   "metadata": {},
   "outputs": [],
   "source": [
    "tn, fp, fn, tp = metrics.confusion_matrix(target_test, predicted_test).ravel()"
   ]
  },
  {
   "cell_type": "code",
   "execution_count": 103,
   "metadata": {},
   "outputs": [
    {
     "name": "stdout",
     "output_type": "stream",
     "text": [
      "12645 6740 1398 2197\n"
     ]
    }
   ],
   "source": [
    "print(tn, fp, fn, tp)"
   ]
  },
  {
   "cell_type": "code",
   "execution_count": 104,
   "metadata": {},
   "outputs": [
    {
     "name": "stdout",
     "output_type": "stream",
     "text": [
      "             precision    recall  f1-score   support\n",
      "\n",
      "          0       0.90      0.65      0.76     19385\n",
      "          1       0.25      0.61      0.35      3595\n",
      "\n",
      "avg / total       0.80      0.65      0.69     22980\n",
      "\n"
     ]
    }
   ],
   "source": [
    "print(metrics.classification_report(target_test, predicted_test))"
   ]
  },
  {
   "cell_type": "markdown",
   "metadata": {},
   "source": [
    "Thus our model yields a precision of our positive class of 2178/(2178+6662) or .246 and a recall rate of 2,178/(2,178+1,430) or .604 for the given decision threshold (.5)."
   ]
  },
  {
   "cell_type": "code",
   "execution_count": 105,
   "metadata": {},
   "outputs": [
    {
     "name": "stdout",
     "output_type": "stream",
     "text": [
      "0.6918361593980118\n"
     ]
    }
   ],
   "source": [
    "auc_score = metrics.roc_auc_score(target_test, probabilities_test)\n",
    "print(auc_score)"
   ]
  },
  {
   "cell_type": "code",
   "execution_count": 106,
   "metadata": {},
   "outputs": [
    {
     "data": {
      "image/png": "[encoded data removed]",
      "text/plain": [
       "<Figure size 432x288 with 1 Axes>"
      ]
     },
     "metadata": {
      "needs_background": "light"
     },
     "output_type": "display_data"
    }
   ],
   "source": [
    "fpr, tpr, _ = metrics.roc_curve(target_test, probabilities_test)\n",
    "plt.plot(fpr,tpr)\n",
    "plt.xlabel('False Positive Rate')\n",
    "plt.ylabel('True Positive Rate')\n",
    "plt.title('2-class ROC curve: AUC={0:0.2f}'.format(\n",
    "          auc_score))\n",
    "plt.show()"
   ]
  },
  {
   "cell_type": "markdown",
   "metadata": {},
   "source": [
    "Overall our ROC curve indicates our model performs better than a naive guess, with an AUC=0.69. However, AUC is not always the best metric for unbalanced class cases such as this due to the inherent inbalance between false positives and true negatives in such a scenario. \n",
    "\n",
    "We will now turn to precision-recall curves. Precision-recall curves are valuable because, especially in the unbalanced class case, they give the practicioner a better sense of how well the model is representing the underpresented class."
   ]
  },
  {
   "cell_type": "code",
   "execution_count": 107,
   "metadata": {},
   "outputs": [
    {
     "name": "stdout",
     "output_type": "stream",
     "text": [
      "0.3509579932267077\n"
     ]
    }
   ],
   "source": [
    "average_precision = metrics.average_precision_score(target_test, probabilities_test)\n",
    "print(average_precision)"
   ]
  },
  {
   "cell_type": "code",
   "execution_count": 108,
   "metadata": {},
   "outputs": [],
   "source": [
    "precision, recall, _ = metrics.precision_recall_curve(target_test, probabilities_test)"
   ]
  },
  {
   "cell_type": "code",
   "execution_count": 109,
   "metadata": {},
   "outputs": [
    {
     "data": {
      "image/png": "[encoded data removed]",
      "text/plain": [
       "<Figure size 432x288 with 1 Axes>"
      ]
     },
     "metadata": {
      "needs_background": "light"
     },
     "output_type": "display_data"
    }
   ],
   "source": [
    "step_kwargs = ({'step': 'post'}\n",
    "               if 'step' in signature(plt.fill_between).parameters\n",
    "               else {})\n",
    "plt.step(recall, precision, color='b', alpha=0.2,\n",
    "         where='post')\n",
    "plt.fill_between(recall, precision, alpha=0.2, color='b', **step_kwargs)\n",
    "\n",
    "plt.xlabel('Recall')\n",
    "plt.ylabel('Precision')\n",
    "plt.ylim([0.0, 1.05])\n",
    "plt.xlim([0.0, 1.0])\n",
    "plt.title('2-class Precision-Recall curve: AP={0:0.2f}'.format(\n",
    "          average_precision))\n",
    "plt.show()"
   ]
  },
  {
   "cell_type": "markdown",
   "metadata": {},
   "source": [
    "Here we find average precision over all possible decision thresholds to be .35. Overall this is lower than we would like, indicating a lot of false positives are being generated from our model. However, given the business case this may be more desirable than decreased recall and increased precision as was seen when tweaking our hyperparameters. "
   ]
  },
  {
   "cell_type": "markdown",
   "metadata": {},
   "source": [
    "### Final Model Comments"
   ]
  },
  {
   "cell_type": "markdown",
   "metadata": {},
   "source": [
    "Overall our model did not seem to perform as well as hoped, even with hyper-parameter tuning and feature selection. There are several next steps that could be taken to improve the model, including:\n",
    "\n",
    "1) Trying different classifiers aside from logistic regressions.  \n",
    "2) Bringing in new features or datasets to improve precision/recall.  \n",
    "3) Further exploring feature engineering in the given dataset.  \n",
    "4) Gathering more data.\n",
    "\n",
    "All of these steps could be used to help improve accuracy, precision, and recall rates of our model."
   ]
  }
 ],
 "metadata": {
  "kernelspec": {
   "display_name": "Python 3",
   "language": "python",
   "name": "python3"
  },
  "language_info": {
   "codemirror_mode": {
    "name": "ipython",
    "version": 3
   },
   "file_extension": ".py",
   "mimetype": "text/x-python",
   "name": "python",
   "nbconvert_exporter": "python",
   "pygments_lexer": "ipython3",
   "version": "3.6.6"
  }
 },
 "nbformat": 4,
 "nbformat_minor": 2
}
